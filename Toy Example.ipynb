{
 "cells": [
  {
   "cell_type": "code",
   "execution_count": 1,
   "id": "05d31f5d",
   "metadata": {},
   "outputs": [],
   "source": [
    "import numpy as np\n",
    "import pandas as pd\n",
    "import matplotlib.pyplot as plt\n",
    "\n",
    "from numpy.random import rand, randn, choice, permutation\n",
    "from scipy.linalg import hadamard\n",
    "\n",
    "import torch\n",
    "import torch.nn.functional as F\n",
    "\n",
    "import tensorly as tl\n",
    "from tensorly import decomposition\n",
    "from tensorly.decomposition import parafac\n",
    "from scipy import linalg"
   ]
  },
  {
   "cell_type": "code",
   "execution_count": 2,
   "id": "14bb5af6",
   "metadata": {},
   "outputs": [],
   "source": [
    "## Defining Measurement Matrices ##\n",
    "\n",
    "## Returns gaussian mx(unweighted) of dimensionn m*N\n",
    "def gaussian_mx(m,N): \n",
    "    A = np.random.normal(0.0, 1.0, [m, N])\n",
    "    return A\n",
    "\n",
    "def hadamard_mx(m,N):\n",
    "    A = hadamard(N)\n",
    "    l = permutation(np.range(N))\n",
    "    return A[l[:m],:]"
   ]
  },
  {
   "cell_type": "code",
   "execution_count": 3,
   "id": "a3f85a0a",
   "metadata": {},
   "outputs": [],
   "source": [
    "def vectorize_tl(X): ##Vectorisation for tensors\n",
    "    x=X.numpy()\n",
    "    x=x.reshape(-1)\n",
    "    return x\n",
    "\n",
    "def vectorize_np(X):  ##Vecorisation for numpy arrays\n",
    "    x=X\n",
    "    x=x.reshape(-1)\n",
    "    return x"
   ]
  },
  {
   "cell_type": "code",
   "execution_count": 4,
   "id": "08cb3d4a",
   "metadata": {},
   "outputs": [],
   "source": [
    "## Thresholding operators #########\n",
    "\n",
    "def sparse_vect(x,s): ## s-sparse approximation\n",
    "    \n",
    "    x_1 = np.abs(x)\n",
    "    index = np.flip(np.argsort(x_1))[:s]\n",
    "    l = np.zeros(np.shape(x)[0])\n",
    "    l[index] = x[index]\n",
    "\n",
    "    return l\n",
    "\n",
    "def sparse_vect_random(x,s):  ##Randomy selects indices to sparsify\n",
    "    \n",
    "    index = np.random.choice(np.shape(x)[0], s, replace=False)\n",
    "    l = np.zeros(np.shape(x)[0])\n",
    "    l[index] = x[index]\n",
    "    \n",
    "    return l\n",
    "\n",
    "def random_low_rank_HOSVD(n,r,eps = 0.1):\n",
    "    C=np.random.normal(0,1,size=r)+eps\n",
    "    C=tl.tensor(C)\n",
    "    C.shape\n",
    "    X=C\n",
    "\n",
    "    U=[]\n",
    "    for i in range(len(n)):\n",
    "        M=np.random.normal(0,1,size=(n[i],n[i]))+eps\n",
    "        u,sigma,v=np.linalg.svd(M)\n",
    "        U.append(u[:,0:r[i]])\n",
    "\n",
    "    for i in range(len(n)):\n",
    "        X=tl.tenalg.mode_dot(X,U[i],i)\n",
    "    return X\n",
    "\n",
    "def random_low_rank_CP(n,r,eps = 0.1):   #### CP Rank r\n",
    "    #torch.manual_seed(0)\n",
    "    #np.random.seed(0)\n",
    "    \n",
    "    L = []\n",
    "    for i in range(0,len(n)):\n",
    "        C=np.random.normal(0,1,size=(n[i],r))+eps\n",
    "        L = L + [C]\n",
    "    \n",
    "    X = np.zeros(n)\n",
    "    for i in range(r):\n",
    "        U_r = np.array(L[0])[:,i]\n",
    "        for j in range(1, len(n)):\n",
    "            prod = np.array(L[j])[:,i]\n",
    "            U_r = np.multiply.outer(U_r,prod)\n",
    "        X = X + U_r\n",
    "        \n",
    "    C=tl.tensor(X) #Changing data frame to tensor\n",
    "    C.shape\n",
    "    return C\n",
    "\n",
    "def HOSVD_rank_app(tensor,r): ## HOSVD rank-r approximation\n",
    "    \n",
    "    core, factors = tl.decomposition.tucker(tensor.numpy(), r) #Decomposition function is used \n",
    "    answer = torch.tensor(tl.tucker_to_tensor([core, factors]))\n",
    "    \n",
    "    return answer\n",
    "\n",
    "def CP_rank_app(tensor,r):  ## CP rank-r approximation\n",
    "    \n",
    "    factors = parafac(tl.tensor(tensor), rank=r)\n",
    "    answer = tl.cp_to_tensor(factors)\n",
    "    \n",
    "    return answer"
   ]
  },
  {
   "cell_type": "code",
   "execution_count": 5,
   "id": "a6b1bc4d",
   "metadata": {},
   "outputs": [],
   "source": [
    "def TIHT_CP(AA,yy,X,r,lamda = 1, itr = 100): \n",
    "    \n",
    "    n = np.shape(X)\n",
    "    X_ravel = np.ravel(X)\n",
    "    \n",
    "    error = np.zeros(itr)\n",
    "    \n",
    "    vXX = torch.randn(n)*0 ##Random Initialisation\n",
    "\n",
    "    for j in range(itr):\n",
    "    \n",
    "        WW = np.array(vectorize_np(vXX)) + lamda*np.matmul(AA.T, (yy - np.matmul(AA, np.array(vectorize_np(vXX)))))\n",
    "        WW = torch.reshape(torch.tensor(WW), n)\n",
    "        vXX = CP_rank_app(WW,r)\n",
    "        error[j] = np.linalg.norm(vectorize_np(vXX)- X_ravel)/np.linalg.norm(X_ravel)\n",
    "        \n",
    "    return vXX, error"
   ]
  },
  {
   "cell_type": "code",
   "execution_count": 6,
   "id": "382a2e4b",
   "metadata": {},
   "outputs": [],
   "source": [
    "def TIHT_HOSVD(AA,yy,X,r,lamda = 1, itr = 100): \n",
    "    \n",
    "    n = np.shape(X)\n",
    "    X_ravel = np.ravel(X)\n",
    "    \n",
    "    error = np.zeros(itr)\n",
    "    \n",
    "    vXX = torch.randn(n)*0\n",
    "\n",
    "    for j in range(itr):\n",
    "    \n",
    "        WW = np.array(vectorize_tl(vXX)) + lamda* np.matmul(AA.T, (yy - np.matmul(AA, np.array(vectorize_tl(vXX)))))\n",
    "        WW = torch.reshape(torch.tensor(WW), n)\n",
    "        vXX = HOSVD_rank_app(WW,r)\n",
    "        error[j] = np.linalg.norm(vectorize_tl(vXX)- X_ravel)/np.linalg.norm(X_ravel)\n",
    "        \n",
    "    return vXX, error"
   ]
  },
  {
   "cell_type": "code",
   "execution_count": 7,
   "id": "73d47f80",
   "metadata": {},
   "outputs": [],
   "source": [
    "def KZIHT(A,b,x,s,gamma=1,itr=100): ## Selecting rows with replacement, gamma-step size for Kaczmarz\n",
    "    \n",
    "    error = np.zeros(itr)\n",
    "    m = np.shape(A)[0]\n",
    "    y = np.zeros(np.shape(x)[0])\n",
    "    \n",
    "    for k in range(itr): # Outer iteration for IHT updates\n",
    "        for j in range(m): #Inner iteration for Kaczmarz updates\n",
    "            \n",
    "            t = np.random.randint(m)\n",
    "            a = A[t,:]\n",
    "            y = y + gamma*(b[t] - a@y)*a/(np.linalg.norm(a)**2)\n",
    "                           \n",
    "        y = sparse_vect(y,s)\n",
    "        error[k] = np.linalg.norm(y-x)/np.linalg.norm(x)\n",
    "                             \n",
    "    return y,error"
   ]
  },
  {
   "cell_type": "code",
   "execution_count": 8,
   "id": "76ef8926",
   "metadata": {},
   "outputs": [],
   "source": [
    "def KZIHT_RR(A,b,x,s,gamma=1,itr=100): ## Selecting rows with replacement, gamma-step size for Kaczmarz\n",
    "    \n",
    "    error = np.zeros(itr)\n",
    "    m = np.shape(A)[0]\n",
    "    y= np.zeros(np.shape(x)[0])\n",
    "    \n",
    "    for k in range(itr): # Outer iteration for IHT updates\n",
    "        \n",
    "        t = permutation(np.arange(m))\n",
    "        \n",
    "        for j in range(m): #Inner iteration for Kaczmarz updates\n",
    "            \n",
    "            a = A[t[j],:]\n",
    "            y = y + gamma*(b[t[j]] - a@y)*a/(np.linalg.norm(a)**2)\n",
    "                           \n",
    "        y = sparse_vect(y,s)\n",
    "        error[k] = np.linalg.norm(y-x)/np.linalg.norm(x)\n",
    "        \n",
    "    return y,error"
   ]
  },
  {
   "cell_type": "code",
   "execution_count": 9,
   "id": "5412786d",
   "metadata": {},
   "outputs": [],
   "source": [
    "def KZIHT_HOSVD(A,b,X,n,r,gamma = 1, itr = 100):\n",
    "    \n",
    "    error = np.zeros(itr)\n",
    "    m = np.shape(A)[0]\n",
    "    \n",
    "    n = np.shape(X)\n",
    "    x = np.ravel(X)\n",
    "    \n",
    "    y = np.zeros(np.shape(x)[0])    \n",
    "    \n",
    "    for k in range(itr): # Outer iteration for IHT updates\n",
    "        for j in range(m): #Inner iteration for Kaczmarz updates\n",
    "            \n",
    "            t = np.random.randint(m)\n",
    "            a = A[t,:]\n",
    "            y = y + gamma*(b[t] - a@y)*a/(np.linalg.norm(a)**2)\n",
    "                           \n",
    "        WW = torch.reshape(torch.tensor(y), n)\n",
    "        y = vectorize_tl(HOSVD_rank_app(WW,r))\n",
    "        error[k] = np.linalg.norm(y-x)/np.linalg.norm(x)\n",
    "                             \n",
    "    return y,error"
   ]
  },
  {
   "cell_type": "code",
   "execution_count": 10,
   "id": "4fba5a21",
   "metadata": {},
   "outputs": [],
   "source": [
    "def KZPT_HOSVD_RR(A,b,X,n,r, period = 1,gamma = 1, itr = 100):\n",
    "    \n",
    "    error = np.zeros(itr)\n",
    "    m = np.shape(A)[0]\n",
    "    \n",
    "    n = np.shape(X)\n",
    "    x = np.ravel(X)\n",
    "    \n",
    "    y = np.zeros(np.shape(x)[0])    \n",
    "    t = permutation(np.arange(m))\n",
    "            \n",
    "    for k in range(itr): # Outer iteration for IHT updates\n",
    "        \n",
    "        for j in range(m): #Inner iteration for Kaczmarz updates\n",
    "            \n",
    "            a = A[t[j],:]\n",
    "            y = y + gamma*(b[t[j]] - a@y)*a/(np.linalg.norm(a)**2)\n",
    "                                     \n",
    "            if (j+1)%period == 0:\n",
    "                WW = torch.reshape(torch.tensor(y), n)\n",
    "                y = vectorize_tl(HOSVD_rank_app(WW,r))\n",
    "                \n",
    "        error[k] = np.linalg.norm(vectorize_np(y)-x)/np.linalg.norm(x)\n",
    "                             \n",
    "    return y,error"
   ]
  },
  {
   "cell_type": "code",
   "execution_count": 11,
   "id": "29816cab",
   "metadata": {},
   "outputs": [],
   "source": [
    "def KZIHT_HOSVD_RR(A,b,X,n,r,gamma = 1, itr = 100):\n",
    "    \n",
    "    error = np.zeros(itr)\n",
    "    m = np.shape(A)[0]\n",
    "    \n",
    "    n = np.shape(X)\n",
    "    x = np.ravel(X)\n",
    "    \n",
    "    y = np.zeros(np.shape(x)[0])    \n",
    "            \n",
    "    for k in range(itr): # Outer iteration for IHT updates\n",
    "        \n",
    "        t = permutation(np.arange(m))\n",
    "        \n",
    "        for j in range(m): #Inner iteration for Kaczmarz updates\n",
    "            \n",
    "            a = A[t[j],:]\n",
    "            y = y + gamma*(b[t[j]] - a@y)*a/(np.linalg.norm(a)**2)\n",
    "                                     \n",
    "        WW = torch.reshape(torch.tensor(y), n)\n",
    "        y = vectorize_tl(HOSVD_rank_app(WW,r))\n",
    "        error[k] = np.linalg.norm(vectorize_np(y)-x)/np.linalg.norm(x)\n",
    "                             \n",
    "    return y,error\n"
   ]
  },
  {
   "cell_type": "code",
   "execution_count": 12,
   "id": "15676f8e",
   "metadata": {},
   "outputs": [],
   "source": [
    "def KZIHT_HOSVD_DET(A,b,X,n,r,gamma = 1, itr = 100):\n",
    "    \n",
    "    error = np.zeros(itr)\n",
    "    m = np.shape(A)[0]\n",
    "    \n",
    "    n = np.shape(X)\n",
    "    x = np.ravel(X)\n",
    "    \n",
    "    y = np.zeros(np.shape(x)[0])    \n",
    "            \n",
    "    for k in range(itr): # Outer iteration for IHT updates\n",
    "        \n",
    "        t = np.arange(m)\n",
    "        \n",
    "        for j in range(m): #Inner iteration for Kaczmarz updates\n",
    "            \n",
    "            a = A[t[j],:]\n",
    "            y = y + gamma*(b[t[j]] - a@y)*a/(np.linalg.norm(a)**2)\n",
    "                                     \n",
    "        WW = torch.reshape(torch.tensor(y), n)\n",
    "        y = vectorize_tl(HOSVD_rank_app(WW,r))\n",
    "        error[k] = np.linalg.norm(vectorize_np(y)-x)/np.linalg.norm(x)\n",
    "                             \n",
    "    return y,error"
   ]
  },
  {
   "cell_type": "code",
   "execution_count": 13,
   "id": "0c24139f",
   "metadata": {},
   "outputs": [],
   "source": [
    "def row_normalised_mx(A,b):\n",
    "    B = np.zeros(np.shape(A))\n",
    "    c = np.zeros(np.shape(b))\n",
    "    for i in range(np.shape(A)[0]):\n",
    "        B[i,:] = A[i,:]/np.linalg.norm(A[i,:])\n",
    "        c[i] = b[i]/np.linalg.norm(A[i,:])\n",
    "    return B,c"
   ]
  },
  {
   "cell_type": "code",
   "execution_count": 565,
   "id": "6a536368",
   "metadata": {},
   "outputs": [],
   "source": [
    "n = 1000\n",
    "n_dim = [10,10,10]\n",
    "r = [2,2,2]\n",
    "itr = 250\n",
    "m = 300\n",
    "\n",
    "A_1 = np.random.normal(0.0,1.0,(n_dim[0],m))\n",
    "A_2 = np.random.normal(0.0,1.0,(n_dim[1],m))\n",
    "A_3 = np.random.normal(0.0,1.0,(n_dim[2],m))\n",
    "A_4 = linalg.khatri_rao(A_1,linalg.khatri_rao(A_2,A_3))\n",
    "A = A_4.T\n",
    "#A = np.random.normal(0,1,(m,n))\n",
    "\n",
    "X = random_low_rank_HOSVD(n_dim,r)\n",
    "x = vectorize_np(X)\n",
    "\n",
    "b = A@x\n",
    "A_1,b_1 = row_normalised_mx(A,b)"
   ]
  },
  {
   "cell_type": "code",
   "execution_count": 691,
   "id": "1440e0ef",
   "metadata": {},
   "outputs": [],
   "source": [
    "y_IHT,error_IHT = TIHT_HOSVD(A,b,X,r,lamda=1/m,itr = 250)\n",
    "y_IHT_2,error_IHT_2 = TIHT_HOSVD(A_1,b_1,X,r,lamda= n/m,itr = 250)\n",
    "y_KZIHT, error_KZIHT = KZIHT_HOSVD_RR(A,b,X,n,r,gamma = n/m, itr = 250)"
   ]
  },
  {
   "cell_type": "code",
   "execution_count": 692,
   "id": "a3c1aa15",
   "metadata": {
    "scrolled": true
   },
   "outputs": [
    {
     "data": {
      "text/plain": [
       "array([1.98156002e+000, 1.38823001e+001, 1.76147019e+002, 2.68263676e+003,\n",
       "       4.29436829e+004, 6.93289074e+005, 1.14149332e+007, 1.88879899e+008,\n",
       "       3.12954391e+009, 5.18776678e+010, 8.60107056e+011, 1.42610159e+013,\n",
       "       2.36459974e+014, 3.92074046e+015, 6.50099332e+016, 1.07793298e+018,\n",
       "       1.78732673e+019, 2.96357685e+020, 4.91392422e+021, 8.14780680e+022,\n",
       "       1.35099267e+024, 2.24008895e+025, 3.71430476e+026, 6.15871074e+027,\n",
       "       1.02117948e+029, 1.69322374e+030, 2.80754432e+031, 4.65520588e+032,\n",
       "       7.71882446e+033, 1.27986286e+035, 2.12214819e+036, 3.51874649e+037,\n",
       "       5.83445441e+038, 9.67414343e+039, 1.60407546e+041, 2.65972702e+042,\n",
       "       4.41010913e+043, 7.31242809e+044, 1.21247803e+046, 2.01041701e+047,\n",
       "       3.33348437e+048, 5.52727018e+049, 9.16479945e+050, 1.51962083e+052,\n",
       "       2.51969230e+053, 4.17791674e+054, 6.92742850e+055, 1.14864103e+057,\n",
       "       1.90456849e+058, 3.15797630e+059, 5.23625922e+060, 8.68227245e+061,\n",
       "       1.43961274e+063, 2.38703042e+064, 3.95794928e+065, 6.56269915e+066,\n",
       "       1.08816504e+068, 1.80429290e+069, 2.99170874e+070, 4.96057000e+071,\n",
       "       8.22515051e+072, 1.36381708e+074, 2.26135318e+075, 3.74956311e+076,\n",
       "       6.21717282e+077, 1.03087311e+079, 1.70929681e+080, 2.83419518e+081,\n",
       "       4.69939582e+082, 7.79209606e+083, 1.29201206e+085, 2.14229286e+086,\n",
       "       3.55214849e+087, 5.88983846e+088, 9.76597606e+089, 1.61930228e+091,\n",
       "       2.68497470e+092, 4.45197247e+093, 7.38184193e+094, 1.22398759e+096,\n",
       "       2.02950107e+097, 3.36512775e+098, 5.57973827e+099, 9.25179709e+100,\n",
       "       1.53404596e+102, 2.54361069e+103, 4.21757597e+104, 6.99318771e+105,\n",
       "       1.15954460e+107, 1.92264777e+108, 3.18795366e+109, 5.28596486e+110,\n",
       "       8.76468966e+111, 1.45327839e+113, 2.40968951e+114, 3.99552045e+115,\n",
       "       6.62499614e+116, 1.09849454e+118, 1.82142030e+119, 3.02010779e+120,\n",
       "       5.00765863e+121, 8.30322845e+122, 1.37676323e+124, 2.28281927e+125,\n",
       "       3.78515616e+126, 6.27618987e+127, 1.04065876e+129, 1.72552246e+130,\n",
       "       2.86109902e+131, 4.74400523e+132, 7.86606319e+133, 1.30427660e+135,\n",
       "       2.16262876e+136, 3.58586756e+137, 5.94574826e+138, 9.85868042e+139,\n",
       "       1.63467364e+141, 2.71046206e+142, 4.49423320e+143, 7.45191470e+144,\n",
       "       1.23560639e+146, 2.04876628e+147, 3.39707151e+148, 5.63270441e+149,\n",
       "       9.33962056e+150, 1.54860802e+152, 2.56775614e+153,             inf,\n",
       "                   inf,             inf,             inf,             inf,\n",
       "                   inf,             inf,             inf,             inf,\n",
       "                   inf,             inf,             inf,             inf,\n",
       "                   inf,             inf,             inf,             inf,\n",
       "                   inf,             inf,             inf,             inf,\n",
       "                   inf,             inf,             inf,             inf,\n",
       "                   inf,             inf,             inf,             inf,\n",
       "                   inf,             inf,             inf,             inf,\n",
       "                   inf,             inf,             inf,             inf,\n",
       "                   inf,             inf,             inf,             inf,\n",
       "                   inf,             inf,             inf,             inf,\n",
       "                   inf,             inf,             inf,             inf,\n",
       "                   inf,             inf,             inf,             inf,\n",
       "                   inf,             inf,             inf,             inf,\n",
       "                   inf,             inf,             inf,             inf,\n",
       "                   inf,             inf,             inf,             inf,\n",
       "                   inf,             inf,             inf,             inf,\n",
       "                   inf,             inf,             inf,             inf,\n",
       "                   inf,             inf,             inf,             inf,\n",
       "                   inf,             inf,             inf,             inf,\n",
       "                   inf,             inf,             inf,             inf,\n",
       "                   inf,             inf,             inf,             inf,\n",
       "                   inf,             inf,             inf,             inf,\n",
       "                   inf,             inf,             inf,             inf,\n",
       "                   inf,             inf,             inf,             inf,\n",
       "                   inf,             inf,             inf,             inf,\n",
       "                   inf,             inf,             inf,             inf,\n",
       "                   inf,             inf,             inf,             inf,\n",
       "                   inf,             inf,             inf,             inf,\n",
       "                   inf,             inf,             inf,             inf,\n",
       "                   inf,             inf])"
      ]
     },
     "execution_count": 692,
     "metadata": {},
     "output_type": "execute_result"
    }
   ],
   "source": [
    "error_IHT"
   ]
  },
  {
   "cell_type": "code",
   "execution_count": 693,
   "id": "0ab712cd",
   "metadata": {},
   "outputs": [
    {
     "data": {
      "text/plain": [
       "array([1.08426574e+000, 2.62519662e+000, 7.66563220e+000, 2.51466640e+001,\n",
       "       8.76526991e+001, 3.19210438e+002, 1.21739919e+003, 4.85891885e+003,\n",
       "       2.01506607e+004, 8.58949712e+004, 3.73669338e+005, 1.65385221e+006,\n",
       "       7.43278606e+006, 3.38533416e+007, 1.55949961e+008, 7.25366107e+008,\n",
       "       3.40311373e+009, 1.62742201e+010, 8.14651122e+010, 4.09227672e+011,\n",
       "       2.05623999e+012, 1.03323630e+013, 5.19197616e+013, 2.60898095e+014,\n",
       "       1.31103189e+015, 6.58808075e+015, 3.31060377e+016, 1.66363322e+017,\n",
       "       8.36006416e+017, 4.20109920e+018, 2.11111829e+019, 1.06086904e+020,\n",
       "       5.33107628e+020, 2.67894869e+021, 1.34621215e+022, 6.76498076e+022,\n",
       "       3.39950758e+023, 1.70830370e+024, 8.58456127e+024, 4.31387468e+025,\n",
       "       2.16778678e+026, 1.08935534e+027, 5.47417869e+027, 2.75085686e+028,\n",
       "       1.38235945e+029, 6.94656937e+029, 3.49075518e+030, 1.75417281e+031,\n",
       "       8.81498872e+031, 4.42966383e+032, 2.22599277e+033, 1.11859566e+034,\n",
       "       5.62111067e+034, 2.82471810e+035, 1.41946436e+036, 7.13302089e+036,\n",
       "       3.58448256e+037, 1.80125770e+038, 9.05158953e+038, 4.54860083e+039,\n",
       "       2.28574198e+040, 1.14861955e+041, 5.77203797e+041, 2.90053798e+042,\n",
       "       1.45756374e+043, 7.32454296e+043, 3.68069565e+044, 1.84960465e+045,\n",
       "       9.29462519e+045, 4.67069231e+046, 2.34709278e+047, 1.17946004e+048,\n",
       "       5.92696835e+048, 2.97839030e+049, 1.49669939e+050, 7.52114495e+050,\n",
       "       3.77948789e+051, 1.89926660e+052, 9.54410719e+052, 4.79605669e+053,\n",
       "       2.41011231e+054, 1.21111856e+055, 6.08605198e+055, 3.05836018e+056,\n",
       "       1.53687309e+057, 7.72301729e+057, 3.88096728e+058, 1.95024583e+059,\n",
       "       9.80027713e+059, 4.92483098e+060, 2.47480342e+061, 1.24362575e+062,\n",
       "       6.24946269e+062, 3.14045125e+063, 1.57812375e+064, 7.93038058e+064,\n",
       "       3.98513838e+065, 2.00259167e+066, 1.00634149e+067, 5.05702098e+067,\n",
       "       2.54122872e+068, 1.27701715e+069, 6.41720784e+069, 3.22474297e+070,\n",
       "       1.62049643e+071, 8.14324413e+071, 4.09210204e+072, 2.05636133e+073,\n",
       "       1.03335324e+074, 5.19275466e+074, 2.60946080e+075, 1.31129424e+076,\n",
       "       6.58944980e+076, 3.31132743e+077, 1.66399303e+078, 8.36181401e+078,\n",
       "       4.20197512e+079, 2.11155721e+080, 1.06108910e+081, 5.33218030e+081,\n",
       "       2.67950272e+082, 1.34649022e+083, 6.76637676e+083, 3.40020853e+084,\n",
       "       1.70865567e+085, 8.58632901e+085, 4.31476256e+086, 2.16823276e+087,\n",
       "       1.08957938e+088, 5.47530418e+088, 2.75142229e+089, 1.38264353e+090,\n",
       "       6.94799666e+090, 3.49147230e+091, 1.75453313e+092, 8.81679922e+092,\n",
       "       4.43057355e+093, 2.22644988e+094, 1.11882536e+095, 5.62226485e+095,\n",
       "       2.82529807e+096, 1.41975580e+097, 7.13448533e+097, 3.58521845e+098,\n",
       "       1.80162749e+099, 9.05344774e+099, 4.54953460e+100, 2.28621121e+101,\n",
       "       1.14885534e+102, 5.77322286e+102, 2.90113340e+103, 1.45786295e+104,\n",
       "       7.32604652e+104, 3.68145120e+105, 1.84998432e+106, 9.29653313e+106,\n",
       "       4.67165108e+107, 2.34757458e+108, 1.17970215e+109, 5.92818499e+109,\n",
       "       2.97900167e+110, 1.49700662e+111, 7.52268882e+111, 3.78026371e+112,\n",
       "       1.89965647e+113, 9.54606631e+113, 4.79704118e+114, 2.41060704e+115,\n",
       "       1.21136716e+116, 6.08730127e+116, 3.05898797e+117, 1.53718857e+118,\n",
       "       7.72460259e+118, 3.88176392e+119, 1.95064615e+120, 9.80228883e+120,\n",
       "       4.92584190e+121, 2.47531142e+122, 1.24388103e+123, 6.25074552e+123,\n",
       "       3.14109589e+124, 1.57844769e+125, 7.93200844e+125, 3.98595640e+126,\n",
       "       2.00300274e+127, 1.00654806e+128, 5.05805904e+128, 2.54175036e+129,\n",
       "       1.27727928e+130, 6.41852510e+130, 3.22540491e+131, 1.62082907e+132,\n",
       "       8.14491569e+132, 4.09294202e+133, 2.05678344e+134, 1.03356535e+135,\n",
       "       5.19382057e+135, 2.60999645e+136, 1.31156341e+137, 6.59080241e+137,\n",
       "       3.31200715e+138, 1.66433460e+139, 8.36353043e+139, 4.20283766e+140,\n",
       "       2.11199065e+141, 1.06130691e+142, 5.33327484e+142, 2.68005274e+143,\n",
       "       1.34676661e+144, 6.76776569e+144, 3.40090649e+145, 1.70900640e+146,\n",
       "       8.58809152e+146, 4.31564825e+147, 2.16867783e+148, 1.08980304e+149,\n",
       "       5.47642810e+149, 2.75198707e+150, 1.38292734e+151, 6.94942288e+151,\n",
       "       3.49218899e+152, 1.75489329e+153,             inf,             inf,\n",
       "                   inf,             inf,             inf,             inf,\n",
       "                   inf,             inf,             inf,             inf,\n",
       "                   inf,             inf,             inf,             inf,\n",
       "                   inf,             inf,             inf,             inf,\n",
       "                   inf,             inf,             inf,             inf,\n",
       "                   inf,             inf,             inf,             inf,\n",
       "                   inf,             inf])"
      ]
     },
     "execution_count": 693,
     "metadata": {},
     "output_type": "execute_result"
    }
   ],
   "source": [
    "error_IHT_2"
   ]
  },
  {
   "cell_type": "code",
   "execution_count": 694,
   "id": "37434299",
   "metadata": {
    "scrolled": true
   },
   "outputs": [
    {
     "data": {
      "text/plain": [
       "array([7.76695272e-01, 7.10983110e-01, 5.35482130e-01, 3.98078429e-01,\n",
       "       2.77510360e-01, 2.08844565e-01, 1.53006214e-01, 1.13593384e-01,\n",
       "       8.62543187e-02, 6.72340703e-02, 5.31415092e-02, 4.34224089e-02,\n",
       "       3.25127142e-02, 2.53942774e-02, 2.01159370e-02, 1.56054657e-02,\n",
       "       1.25981936e-02, 1.02185012e-02, 8.37983126e-03, 6.34646344e-03,\n",
       "       5.21508571e-03, 4.07899641e-03, 3.16345052e-03, 2.61446056e-03,\n",
       "       2.12863420e-03, 1.83203620e-03, 1.54603195e-03, 1.25031373e-03,\n",
       "       1.02446221e-03, 8.33569729e-04, 6.50731037e-04, 5.47562570e-04,\n",
       "       4.25326162e-04, 3.35036700e-04, 2.67804186e-04, 2.11347989e-04,\n",
       "       1.74987645e-04, 1.47054605e-04, 1.17670322e-04, 9.92436367e-05,\n",
       "       8.12664348e-05, 7.20643408e-05, 5.90228360e-05, 4.85350438e-05,\n",
       "       3.96036623e-05, 3.21201591e-05, 2.69880643e-05, 2.21362090e-05,\n",
       "       1.78128171e-05, 1.50379423e-05, 1.23518983e-05, 1.02837577e-05,\n",
       "       8.45676258e-06, 6.87675920e-06, 5.60794741e-06, 4.57829683e-06,\n",
       "       3.77207903e-06, 3.13473666e-06, 2.64368938e-06, 2.16930755e-06,\n",
       "       1.83586944e-06, 1.53673960e-06, 1.25255538e-06, 1.04499162e-06,\n",
       "       8.54800564e-07, 7.40557366e-07, 5.95909122e-07, 4.72488812e-07,\n",
       "       3.94551970e-07, 3.22653076e-07, 2.67452891e-07, 2.16848097e-07,\n",
       "       1.80188780e-07, 1.48374039e-07, 1.21014712e-07, 1.00659246e-07,\n",
       "       8.37381489e-08, 6.67654263e-08, 5.47521469e-08, 4.46632777e-08,\n",
       "       3.75570324e-08, 3.06236245e-08, 2.56692181e-08, 2.17176574e-08,\n",
       "       1.73639299e-08, 1.42049698e-08, 1.13391857e-08, 9.40916672e-09,\n",
       "       7.54836869e-09, 6.25765605e-09, 5.01692214e-09, 4.09607806e-09,\n",
       "       3.34989669e-09, 2.65716039e-09, 2.22329671e-09, 1.79681452e-09,\n",
       "       1.48977519e-09, 1.20737065e-09, 1.03432565e-09, 8.16505232e-10,\n",
       "       6.77380777e-10, 5.62005959e-10, 4.57741091e-10, 3.87627944e-10,\n",
       "       3.22531035e-10, 2.61080912e-10, 2.13359284e-10, 1.72009585e-10,\n",
       "       1.43064486e-10, 1.13623240e-10, 9.48257197e-11, 7.67598381e-11,\n",
       "       6.59362706e-11, 5.39162757e-11, 4.39473595e-11, 3.70351030e-11,\n",
       "       3.19680613e-11, 2.63701290e-11, 2.21438294e-11, 1.82291790e-11,\n",
       "       1.49665036e-11, 1.21947446e-11, 1.02080503e-11, 8.48063668e-12,\n",
       "       6.77763493e-12, 5.69604231e-12, 4.79463899e-12, 3.93093938e-12,\n",
       "       3.12552396e-12, 2.56858654e-12, 2.20139590e-12, 1.78161752e-12,\n",
       "       1.40998911e-12, 1.13527549e-12, 9.42635745e-13, 7.68452676e-13,\n",
       "       6.05667143e-13, 5.19361101e-13, 4.36033446e-13, 3.37652623e-13,\n",
       "       2.79118074e-13, 2.32770597e-13, 1.99207133e-13, 1.58812662e-13,\n",
       "       1.31545643e-13, 1.08699113e-13, 8.75181698e-14, 7.19613652e-14,\n",
       "       5.76872236e-14, 4.82989396e-14, 4.08082495e-14, 3.36022662e-14,\n",
       "       2.66440991e-14, 2.16855000e-14, 1.67624765e-14, 1.36806034e-14,\n",
       "       1.08667294e-14, 8.75215125e-15, 7.36150586e-15, 5.72157497e-15,\n",
       "       4.89706856e-15, 3.73858929e-15, 3.38134060e-15, 2.71176966e-15,\n",
       "       2.35312383e-15, 2.03243336e-15, 1.84451472e-15, 1.89385810e-15,\n",
       "       2.04179440e-15, 1.98694872e-15, 1.97748833e-15, 1.69697222e-15,\n",
       "       1.39291258e-15, 1.36317189e-15, 1.64824648e-15, 1.61574517e-15,\n",
       "       1.41641466e-15, 2.08366702e-15, 2.48918386e-15, 2.01859488e-15,\n",
       "       2.02735271e-15, 1.66491979e-15, 1.61771197e-15, 1.30995676e-15,\n",
       "       1.38678303e-15, 1.19736826e-15, 1.36056924e-15, 1.10301174e-15,\n",
       "       1.06684346e-15, 1.30723401e-15, 1.07643799e-15, 1.45275159e-15,\n",
       "       1.54708778e-15, 1.33234529e-15, 1.24273272e-15, 1.01717495e-15,\n",
       "       1.22781096e-15, 1.11173532e-15, 9.91768949e-16, 9.99353093e-16,\n",
       "       9.73113363e-16, 9.50450495e-16, 1.23484277e-15, 1.16471297e-15,\n",
       "       1.32102557e-15, 1.49432315e-15, 1.64559965e-15, 1.83925288e-15,\n",
       "       1.79302041e-15, 1.97714023e-15, 2.11305702e-15, 2.64637660e-15,\n",
       "       2.20839064e-15, 2.37704483e-15, 2.53459226e-15, 2.01169354e-15,\n",
       "       1.41866164e-15, 1.59634123e-15, 1.87278492e-15, 1.66314025e-15,\n",
       "       1.43369066e-15, 1.57378369e-15, 1.29525910e-15, 1.19180722e-15,\n",
       "       1.49525778e-15, 1.27680935e-15, 1.24961811e-15, 1.37175031e-15,\n",
       "       1.25982592e-15, 1.15323121e-15, 1.10965617e-15, 9.76271252e-16,\n",
       "       1.07383882e-15, 1.33648761e-15, 1.15087439e-15, 1.18034344e-15,\n",
       "       9.89841534e-16, 1.07232936e-15, 1.07754299e-15, 1.10615799e-15,\n",
       "       1.05782899e-15, 1.21730788e-15, 1.24029714e-15, 1.23491213e-15,\n",
       "       1.05231137e-15, 1.20094169e-15, 1.26351234e-15, 1.16803748e-15,\n",
       "       1.18718492e-15, 1.35656632e-15])"
      ]
     },
     "execution_count": 694,
     "metadata": {},
     "output_type": "execute_result"
    }
   ],
   "source": [
    "error_KZIHT"
   ]
  },
  {
   "cell_type": "code",
   "execution_count": 590,
   "id": "ad4b7d0e",
   "metadata": {},
   "outputs": [],
   "source": [
    "np.save('x_2.npy', x)\n",
    "np.save('a_1_2.npy',A_1)\n",
    "np.save('a_2_2.npy',A_2)\n",
    "np.save('a_3_2.npy',A_3)\n",
    "np.save('a_4_2.npy',A_4)"
   ]
  },
  {
   "cell_type": "code",
   "execution_count": 633,
   "id": "2e3a2006",
   "metadata": {},
   "outputs": [],
   "source": [
    "n = 1000\n",
    "n_dim = [10,10,10]\n",
    "r = [2,2,2]\n",
    "itr = 250\n",
    "m = 300\n",
    "\n",
    "A_4 = np.load('a_4_2.npy')\n",
    "A = A_4.T\n",
    "\n",
    "x = np.load('x_2.npy')\n",
    "X = np.reshape(x,(10,10,10))\n",
    "\n",
    "b = A@x\n",
    "A_1,b_1 = row_normalised_mx(A,b)"
   ]
  },
  {
   "cell_type": "code",
   "execution_count": 634,
   "id": "eabd146f",
   "metadata": {},
   "outputs": [],
   "source": [
    "#np.save('x.npy', x)\n",
    "#np.save('a_1.npy',A_1)\n",
    "#np.save('a_2.npy',A_2)\n",
    "#np.save('a_3.npy',A_3)\n",
    "#np.save('a_4.npy',A_4)"
   ]
  },
  {
   "cell_type": "code",
   "execution_count": 635,
   "id": "bbb3ca4f",
   "metadata": {},
   "outputs": [
    {
     "name": "stdout",
     "output_type": "stream",
     "text": [
      "1.9815600153184483\n",
      "13.882300104980517\n",
      "176.14701934565366\n",
      "2682.636755963114\n",
      "42943.68293436173\n"
     ]
    }
   ],
   "source": [
    "#######################################################\n",
    "######## Analysing this Step-wise #####################\n",
    "#######################################################\n",
    "\n",
    "### First 5 iterations of IHT\n",
    "\n",
    "vXX = torch.randn(n)*0\n",
    "IHT_X = []\n",
    "lamda = 1/m\n",
    "\n",
    "for j in range(5):\n",
    "    \n",
    "    WW = np.array(vectorize_tl(vXX)) + lamda* np.matmul(A.T, (b - np.matmul(A, np.array(vectorize_tl(vXX)))))  \n",
    "    WW = torch.reshape(torch.tensor(WW), n_dim)\n",
    "    vXX = HOSVD_rank_app(WW,r)\n",
    "    IHT_X = IHT_X + [vXX]\n",
    "\n",
    "    print(np.linalg.norm(vXX-X)/np.linalg.norm(X))\n"
   ]
  },
  {
   "cell_type": "code",
   "execution_count": 636,
   "id": "ab21c0cb",
   "metadata": {},
   "outputs": [
    {
     "name": "stdout",
     "output_type": "stream",
     "text": [
      "2197.0212086718234\n",
      "17222355.155240193\n",
      "223499085446.92337\n",
      "3529505419894787.5\n",
      "5.899360312780203e+19\n"
     ]
    }
   ],
   "source": [
    "### First 5 iterations of IHT (w/ normalised rows)\n",
    "\n",
    "vXX = torch.randn(n)*0\n",
    "IHTN_X = []\n",
    "lamda = n/m\n",
    "\n",
    "for j in range(5):\n",
    "    \n",
    "    WW = np.array(vectorize_tl(vXX)) + lamda* np.matmul(A.T, (b - np.matmul(A, np.array(vectorize_tl(vXX)))))  \n",
    "    WW = torch.reshape(torch.tensor(WW), n_dim)\n",
    "    vXX = HOSVD_rank_app(WW,r)\n",
    "    IHTN_X = IHTN_X + [vXX]\n",
    "\n",
    "    print(np.linalg.norm(vXX-X)/np.linalg.norm(X))"
   ]
  },
  {
   "cell_type": "code",
   "execution_count": 639,
   "id": "437971dc",
   "metadata": {},
   "outputs": [
    {
     "name": "stdout",
     "output_type": "stream",
     "text": [
      "0.8549441776585224\n",
      "0.7638234464622998\n",
      "0.6963519118708602\n",
      "0.6422856003559547\n",
      "0.5971072016455948\n"
     ]
    }
   ],
   "source": [
    "y = np.zeros(np.shape(x)[0]) \n",
    "KZIHT_X = []\n",
    "lamda = n/m\n",
    "\n",
    "t = permutation(np.arange(m))\n",
    "            \n",
    "for k in range(5): # Outer iteration for IHT updates\n",
    "        \n",
    "    for j in range(m): #Inner iteration for Kaczmarz updates\n",
    "            \n",
    "        a = A[t[j],:]\n",
    "        y = y + gamma*(b[t[j]] - a@y)*a/(np.linalg.norm(a)**2)\n",
    "                        \n",
    "    WW = torch.reshape(torch.tensor(y), n_dim)\n",
    "    KZIHT_X = KZIHT_X + [y]\n",
    "    y = vectorize_tl(HOSVD_rank_app(WW,r))\n",
    "    \n",
    "    print(np.linalg.norm(y-x)/np.linalg.norm(X))"
   ]
  },
  {
   "cell_type": "code",
   "execution_count": 698,
   "id": "7258e9c9",
   "metadata": {},
   "outputs": [],
   "source": [
    "###########################################################\n",
    "############### Angle of descent for the iterates ######### \n",
    "###########################################################\n",
    "\n",
    "angles_IHT = []\n",
    "angles_KZIHT = []\n",
    "\n",
    "m = np.shape(A)[0]\n",
    "\n",
    "n = 1000\n",
    "n_dim = np.shape(X)\n",
    "x = np.ravel(X)\n",
    "\n",
    "gamma = n/m\n",
    "lamda = 1/m\n",
    "    \n",
    "y = np.zeros(np.shape(x)[0])    \n",
    "t = permutation(np.arange(m))\n",
    "            \n",
    "for k in range(10): # Outer iteration for IHT updates\n",
    "    \n",
    "    y_prev = y - x    ## previous iteration\n",
    "        \n",
    "    for j in range(m): #Inner iteration for Kaczmarz updates\n",
    "            \n",
    "        a = A[t[j],:]\n",
    "        y = y + gamma*(b[t[j]] - a@y)*a/(np.linalg.norm(a)**2)\n",
    "    \n",
    "    u = y - x         ## the one that is thresholded                      \n",
    "    WW = torch.reshape(torch.tensor(y), n_dim)\n",
    "    y = vectorize_tl(HOSVD_rank_app(WW,r))\n",
    "    v = y - x         ## post thresholding \n",
    "    \n",
    "    angle = u.T@v/(np.linalg.norm(v)*np.linalg.norm(y_prev))\n",
    "    angles_KZIHT = angles_KZIHT + [angle]\n",
    "    \n",
    "\n",
    "X_ravel = x\n",
    "    \n",
    "vXX = torch.randn(n)*0\n",
    "\n",
    "for j in range(10):\n",
    "    \n",
    "    y_prev = (vectorize_tl(vXX)) - x\n",
    "    WW = np.array(vectorize_tl(vXX)) + lamda* np.matmul(A.T, (b - np.matmul(A, np.array(vectorize_tl(vXX)))))\n",
    "    u = WW - x  \n",
    "    WW = torch.reshape(torch.tensor(WW), n_dim)\n",
    "    vXX = HOSVD_rank_app(WW,r)\n",
    "    v = (vectorize_tl(vXX)) - x\n",
    "    \n",
    "    angle = u.T@v/(np.linalg.norm(v)*np.linalg.norm(y_prev))\n",
    "    angles_IHT = angles_IHT + [angle]"
   ]
  },
  {
   "cell_type": "code",
   "execution_count": 699,
   "id": "c95823c8",
   "metadata": {},
   "outputs": [
    {
     "data": {
      "text/plain": [
       "[1.8107310223954671,\n",
       " 7.002713613857714,\n",
       " 12.688562687716198,\n",
       " 15.229608311107196,\n",
       " 16.008008624938203,\n",
       " 16.14414596507773,\n",
       " 16.464896962318424,\n",
       " 16.54673714994655,\n",
       " 16.568962221666833,\n",
       " 16.576750267475575]"
      ]
     },
     "execution_count": 699,
     "metadata": {},
     "output_type": "execute_result"
    }
   ],
   "source": [
    "angles_IHT"
   ]
  },
  {
   "cell_type": "code",
   "execution_count": 697,
   "id": "0804a59f",
   "metadata": {},
   "outputs": [
    {
     "data": {
      "text/plain": [
       "[0.7607912441795289,\n",
       " 0.6212952377939084,\n",
       " 0.8180712065163416,\n",
       " 0.7481779172783868,\n",
       " 0.7712034757572144,\n",
       " 0.7759174104754318,\n",
       " 0.7871026630316245,\n",
       " 0.7816459092107453,\n",
       " 0.7833636454726541,\n",
       " 0.7814020747345611]"
      ]
     },
     "execution_count": 697,
     "metadata": {},
     "output_type": "execute_result"
    }
   ],
   "source": [
    "angles_KZIHT"
   ]
  },
  {
   "cell_type": "code",
   "execution_count": 700,
   "id": "df347672",
   "metadata": {
    "scrolled": true
   },
   "outputs": [
    {
     "data": {
      "text/plain": [
       "array([ 0.98270923,  6.23243409, 11.97624645, 14.48458907, 15.30638564,\n",
       "       15.39617291, 15.73430134, 15.80868398, 15.81609007, 15.81010751])"
      ]
     },
     "execution_count": 700,
     "metadata": {},
     "output_type": "execute_result"
    }
   ],
   "source": [
    "-np.array(angles_KZIHT)+np.array(angles_IHT)"
   ]
  },
  {
   "cell_type": "code",
   "execution_count": 705,
   "id": "e80ca8c5",
   "metadata": {
    "scrolled": true
   },
   "outputs": [
    {
     "name": "stdout",
     "output_type": "stream",
     "text": [
      "0.0425467699287495\n",
      "0.006747806010819787\n",
      "0.0033090495426669215\n",
      "-0.03137138486061949\n",
      "-0.0179056534125608\n",
      "-0.0015234410690636445\n",
      "0.013965182509999105\n",
      "0.0018312992468812773\n",
      "0.03665336452663969\n",
      "0.015535930264404226\n",
      "0.02177459316600294\n",
      "-0.0034107076253644297\n",
      "0.007089032736940827\n",
      "-0.061531714106130765\n",
      "0.03282995959775055\n",
      "0.013700318023060055\n",
      "0.04284542915705328\n",
      "-0.001929192304102042\n",
      "-0.03267369455543777\n",
      "0.003762879303108178\n",
      "-0.009445226159053815\n",
      "0.005910958820533706\n",
      "0.018721085187748555\n",
      "-0.0041286023880791785\n",
      "-0.0010973635440786446\n",
      "0.001943908771476891\n",
      "-0.15451065986814003\n",
      "0.010221344183571453\n",
      "-0.006481767573120767\n",
      "-0.041890836647941715\n",
      "0.014398235805080605\n",
      "0.02985997148174107\n",
      "-0.009359117362078579\n",
      "0.001855897452140402\n",
      "0.00621032827516685\n",
      "0.011583668319228883\n",
      "0.014098967106942042\n",
      "0.0009168971688087281\n",
      "-0.03819578467110455\n",
      "-0.0008619457160693443\n",
      "-0.009664983746651321\n",
      "-0.021421274334050493\n",
      "-0.02500764844491543\n",
      "-0.0020774995704413487\n",
      "0.02318618595067051\n",
      "0.02938698530904563\n",
      "-0.007505335701834683\n",
      "-0.01971347588222092\n",
      "-0.0036200814438726993\n",
      "0.01782737380013031\n"
     ]
    }
   ],
   "source": [
    "############### Stalled plotting angle ######################## \n",
    "ang_1 = []\n",
    "for i in range(50):\n",
    "    ang = A[i,:]@(np.ravel(x))/(np.linalg.norm(A[i,:])*np.linalg.norm(x))\n",
    "    print(ang)\n",
    "    ang_1 = ang_1 + [ang]"
   ]
  },
  {
   "cell_type": "code",
   "execution_count": 706,
   "id": "8b9aa569",
   "metadata": {},
   "outputs": [],
   "source": [
    "hist, bins = np.histogram(np.array(ang_1), bins=20, range=None, density=None, weights=None)"
   ]
  },
  {
   "cell_type": "code",
   "execution_count": 707,
   "id": "ca7619f6",
   "metadata": {
    "scrolled": true
   },
   "outputs": [
    {
     "data": {
      "text/plain": [
       "<matplotlib.patches.StepPatch at 0x7fced96c0910>"
      ]
     },
     "execution_count": 707,
     "metadata": {},
     "output_type": "execute_result"
    },
    {
     "data": {
      "image/png": "[encoded data removed]",
      "text/plain": [
       "<Figure size 432x288 with 1 Axes>"
      ]
     },
     "metadata": {
      "needs_background": "light"
     },
     "output_type": "display_data"
    }
   ],
   "source": [
    "plt.stairs(hist, bins)"
   ]
  },
  {
   "cell_type": "code",
   "execution_count": 701,
   "id": "1285f2fe",
   "metadata": {
    "scrolled": true
   },
   "outputs": [
    {
     "name": "stdout",
     "output_type": "stream",
     "text": [
      "0.07720282192823326\n",
      "-0.0003046806862870354\n",
      "-0.006126057503659072\n",
      "0.010565950031709478\n",
      "0.011005032152562879\n",
      "-0.04413161294266952\n",
      "-0.0469422821968611\n",
      "-0.0017519918748620544\n",
      "0.0007622952460053812\n",
      "0.032090728931658305\n",
      "0.0015129780040802393\n",
      "0.009934825782788991\n",
      "-0.007243757891837366\n",
      "-0.013176304058373934\n",
      "-0.06996430860767304\n",
      "-0.02307508914097734\n",
      "0.03741713977012864\n",
      "-0.016713989360113334\n",
      "0.014848408798961621\n",
      "-0.003495530147956855\n",
      "0.012111884518681348\n",
      "-0.0011806436199827534\n",
      "-0.0013354895368321849\n",
      "-0.014350829708447864\n",
      "0.007101142281168423\n",
      "-0.006350659454013059\n",
      "0.08452105591632635\n",
      "-0.0019454227886701965\n",
      "0.004258114137689666\n",
      "-0.007530006317848765\n",
      "-0.014732332758096826\n",
      "0.015051943630771175\n",
      "-0.0039348927712079835\n",
      "0.008095913905068143\n",
      "0.005847165164023427\n",
      "-0.0020864872835911004\n",
      "-0.05038678019292974\n",
      "-0.008048054273017212\n",
      "0.01728518929092603\n",
      "0.020093349889301997\n",
      "-0.0015398859383478505\n",
      "0.016550807402306387\n",
      "-0.0007290365229883104\n",
      "0.009707154595769974\n",
      "-0.02230187846021598\n",
      "-0.021366541457378218\n",
      "-0.012477220048320036\n",
      "-0.00019302049068565226\n",
      "-0.00266180472708177\n",
      "-0.02631005474884492\n"
     ]
    }
   ],
   "source": [
    "############### Stalled plotting angle ######################## \n",
    "ang_1 = []\n",
    "for i in range(50):\n",
    "    ang = A[i,:]@(np.ravel(np.array(IHT_X[0]))-x)/(np.linalg.norm(A[i,:])*np.linalg.norm(np.ravel(np.array(IHT_X[0]))-x))\n",
    "    print(ang)\n",
    "    ang_1 = ang_1 + [ang]"
   ]
  },
  {
   "cell_type": "code",
   "execution_count": 702,
   "id": "d27a1e51",
   "metadata": {},
   "outputs": [],
   "source": [
    "hist, bins = np.histogram(np.array(ang_1), bins=20, range=None, density=None, weights=None)"
   ]
  },
  {
   "cell_type": "code",
   "execution_count": 703,
   "id": "61d5d7c5",
   "metadata": {
    "scrolled": true
   },
   "outputs": [
    {
     "data": {
      "text/plain": [
       "<matplotlib.patches.StepPatch at 0x7fcf211b3520>"
      ]
     },
     "execution_count": 703,
     "metadata": {},
     "output_type": "execute_result"
    },
    {
     "data": {
      "image/png": "[encoded data removed]",
      "text/plain": [
       "<Figure size 432x288 with 1 Axes>"
      ]
     },
     "metadata": {
      "needs_background": "light"
     },
     "output_type": "display_data"
    }
   ],
   "source": [
    "plt.stairs(hist, bins)"
   ]
  },
  {
   "cell_type": "code",
   "execution_count": 714,
   "id": "0a4a4b46",
   "metadata": {
    "scrolled": true
   },
   "outputs": [
    {
     "name": "stdout",
     "output_type": "stream",
     "text": [
      "-0.003970382319582073\n",
      "-0.0013668639965722616\n",
      "-0.0038792448774828967\n",
      "0.01052950547273\n",
      "-0.013087750642488273\n",
      "-0.013925306399031319\n",
      "-0.014760739914297173\n",
      "-0.007936904894113101\n",
      "-0.025560684105723395\n",
      "-0.021117908338415738\n",
      "-0.02003779695616178\n",
      "0.0026681679988652006\n",
      "-0.004881971859621039\n",
      "0.022427491755728925\n",
      "-0.013425232493293505\n",
      "-0.011959337172958039\n",
      "-0.015388470200884881\n",
      "0.013376232871311915\n",
      "0.0064954232253041115\n",
      "0.001984047494540961\n",
      "-0.0006234959178129224\n",
      "0.002141253179499104\n",
      "-0.00787567280252191\n",
      "0.003196937897104513\n",
      "0.004957901510243893\n",
      "-0.0053685536437041124\n",
      "0.05802204736131589\n",
      "0.005375966052104895\n",
      "0.009455538278143575\n",
      "0.017009120396637902\n",
      "0.008287629239431257\n",
      "0.0008926455727802471\n",
      "0.010495848631393193\n",
      "0.007249201462174001\n",
      "0.007249885617332216\n",
      "-0.013799460092648513\n",
      "-0.003054365714062406\n",
      "0.009364079635855267\n",
      "0.011806896098850168\n",
      "0.007405574107320546\n",
      "0.0016602598988219315\n",
      "0.005975617478726645\n",
      "-0.00030280038652422765\n",
      "-0.0036781208839363373\n",
      "-0.0071543910084686845\n",
      "0.0011206201095281267\n",
      "-0.0038292871337249736\n",
      "0.002514479655420975\n",
      "0.0012000434828560837\n",
      "-0.005025322737484453\n"
     ]
    }
   ],
   "source": [
    "############### Stalled plotting angle ######################## \n",
    "ang_1 = []\n",
    "for i in range(50):\n",
    "    ang = A[i,:]@(np.ravel(np.array(KZIHT_X[0]))-x)/(np.linalg.norm(A[i,:])*np.linalg.norm(np.ravel(np.array(KZIHT_X[0]))-x))\n",
    "    print(ang)\n",
    "    ang_1 = ang_1 + [ang]"
   ]
  },
  {
   "cell_type": "code",
   "execution_count": 715,
   "id": "3c714e75",
   "metadata": {},
   "outputs": [],
   "source": [
    "hist, bins = np.histogram(np.array(ang_1), bins=20, range=None, density=None, weights=None)"
   ]
  },
  {
   "cell_type": "code",
   "execution_count": 716,
   "id": "4c42275a",
   "metadata": {
    "scrolled": true
   },
   "outputs": [
    {
     "data": {
      "text/plain": [
       "<matplotlib.patches.StepPatch at 0x7fcf0549fe20>"
      ]
     },
     "execution_count": 716,
     "metadata": {},
     "output_type": "execute_result"
    },
    {
     "data": {
      "image/png": "[encoded data removed]",
      "text/plain": [
       "<Figure size 432x288 with 1 Axes>"
      ]
     },
     "metadata": {
      "needs_background": "light"
     },
     "output_type": "display_data"
    }
   ],
   "source": [
    "plt.stairs(hist, bins)"
   ]
  },
  {
   "cell_type": "code",
   "execution_count": 726,
   "id": "5ada1192",
   "metadata": {},
   "outputs": [],
   "source": [
    "## Before thresholding iteration 1\n",
    "\n",
    "t = torch.randn(n)*0\n",
    "\n",
    "gr_ih = np.array(vectorize_tl(t)) + lamda* np.matmul(A.T, (b - np.matmul(A, np.array(vectorize_tl(t)))))\n",
    "y = np.zeros((1000))\n",
    "p = permutation(np.arange(m))\n",
    "                                                            \n",
    "for j in range(m): #Inner iteration for Kaczmarz updates\n",
    "            \n",
    "        a = A[p[j],:]\n",
    "        y = y + gamma*(b[p[j]] - a@y)*a/(np.linalg.norm(a)**2)\n",
    "\n",
    "gr_kz = y "
   ]
  },
  {
   "cell_type": "code",
   "execution_count": 727,
   "id": "9dad8a83",
   "metadata": {},
   "outputs": [
    {
     "data": {
      "text/plain": [
       "378.66746637270916"
      ]
     },
     "execution_count": 727,
     "metadata": {},
     "output_type": "execute_result"
    }
   ],
   "source": [
    "np.linalg.norm(A@gr_ih-b)"
   ]
  },
  {
   "cell_type": "code",
   "execution_count": 728,
   "id": "9c1e9437",
   "metadata": {},
   "outputs": [
    {
     "data": {
      "text/plain": [
       "111.20851621491062"
      ]
     },
     "execution_count": 728,
     "metadata": {},
     "output_type": "execute_result"
    }
   ],
   "source": [
    "np.linalg.norm(A@gr_kz-b)"
   ]
  },
  {
   "cell_type": "code",
   "execution_count": 729,
   "id": "9f553258",
   "metadata": {},
   "outputs": [],
   "source": [
    "WW = torch.reshape(torch.tensor(gr_ih), n_dim)\n",
    "tr_ih = vectorize_tl(HOSVD_rank_app(WW,r))\n",
    "\n",
    "WW = torch.reshape(torch.tensor(gr_kz), n_dim)\n",
    "tr_kz = HOSVD_rank_app(WW,r)"
   ]
  },
  {
   "cell_type": "code",
   "execution_count": 737,
   "id": "22a18ae6",
   "metadata": {},
   "outputs": [
    {
     "name": "stdout",
     "output_type": "stream",
     "text": [
      "189.3161997888633\n",
      "31.542031486830595\n"
     ]
    }
   ],
   "source": [
    "print(np.linalg.norm(A@np.ravel(np.array(tr_ih))-b))\n",
    "print(np.linalg.norm(A@np.ravel(np.array(tr_kz))-b))"
   ]
  },
  {
   "cell_type": "code",
   "execution_count": 739,
   "id": "80439f04",
   "metadata": {},
   "outputs": [],
   "source": [
    "## Before thresholding iteration 2\n",
    "\n",
    "gr_ih = np.array(vectorize_tl(IHT_X[0])) + lamda* np.matmul(A.T, (b - np.matmul(A, np.array(vectorize_tl(IHT_X[0])))))\n",
    "y = KZIHT_X[0]\n",
    "                                                            \n",
    "for j in range(m): #Inner iteration for Kaczmarz updates\n",
    "            \n",
    "        a = A[p[j],:]\n",
    "        y = y + gamma*(b[p[j]] - a@y)*a/(np.linalg.norm(a)**2)\n",
    "\n",
    "gr_kz = y "
   ]
  },
  {
   "cell_type": "code",
   "execution_count": 740,
   "id": "4b6ce7dd",
   "metadata": {},
   "outputs": [
    {
     "data": {
      "text/plain": [
       "2442.3155630737415"
      ]
     },
     "execution_count": 740,
     "metadata": {},
     "output_type": "execute_result"
    }
   ],
   "source": [
    "np.linalg.norm(A@gr_ih-b)"
   ]
  },
  {
   "cell_type": "code",
   "execution_count": 741,
   "id": "f9d7aaef",
   "metadata": {
    "scrolled": true
   },
   "outputs": [
    {
     "data": {
      "text/plain": [
       "65.07170967959912"
      ]
     },
     "execution_count": 741,
     "metadata": {},
     "output_type": "execute_result"
    }
   ],
   "source": [
    "np.linalg.norm(A@gr_kz-b)"
   ]
  },
  {
   "cell_type": "code",
   "execution_count": 742,
   "id": "16933ac7",
   "metadata": {},
   "outputs": [],
   "source": [
    "WW = torch.reshape(torch.tensor(gr_ih), n_dim)\n",
    "tr_ih = vectorize_tl(HOSVD_rank_app(WW,r))\n",
    "\n",
    "WW = torch.reshape(torch.tensor(gr_kz), n_dim)\n",
    "tr_kz = HOSVD_rank_app(WW,r)"
   ]
  },
  {
   "cell_type": "code",
   "execution_count": 743,
   "id": "eddb3fb3",
   "metadata": {
    "scrolled": true
   },
   "outputs": [
    {
     "name": "stdout",
     "output_type": "stream",
     "text": [
      "1865.4683428345504\n",
      "23.754479340894612\n"
     ]
    }
   ],
   "source": [
    "print(np.linalg.norm(A@np.ravel(np.array(tr_ih))-b))\n",
    "print(np.linalg.norm(A@np.ravel(np.array(tr_kz))-b))"
   ]
  },
  {
   "cell_type": "code",
   "execution_count": 744,
   "id": "91af2be0",
   "metadata": {},
   "outputs": [],
   "source": [
    "## Before thresholding iteration 3\n",
    "\n",
    "gr_ih = np.array(vectorize_tl(IHT_X[1])) + lamda* np.matmul(A.T, (b - np.matmul(A, np.array(vectorize_tl(IHT_X[1])))))\n",
    "y = KZIHT_X[0]\n",
    "                                                            \n",
    "for j in range(m): #Inner iteration for Kaczmarz updates\n",
    "            \n",
    "        a = A[p[j],:]\n",
    "        y = y + gamma*(b[p[j]] - a@y)*a/(np.linalg.norm(a)**2)\n",
    "\n",
    "gr_kz = y "
   ]
  },
  {
   "cell_type": "code",
   "execution_count": 745,
   "id": "46524b16",
   "metadata": {},
   "outputs": [
    {
     "data": {
      "text/plain": [
       "28583.42462006642"
      ]
     },
     "execution_count": 745,
     "metadata": {},
     "output_type": "execute_result"
    }
   ],
   "source": [
    "np.linalg.norm(A@gr_ih-b)"
   ]
  },
  {
   "cell_type": "code",
   "execution_count": 746,
   "id": "25b00179",
   "metadata": {
    "scrolled": true
   },
   "outputs": [
    {
     "data": {
      "text/plain": [
       "65.07170967959912"
      ]
     },
     "execution_count": 746,
     "metadata": {},
     "output_type": "execute_result"
    }
   ],
   "source": [
    "np.linalg.norm(A@gr_kz-b)"
   ]
  },
  {
   "cell_type": "code",
   "execution_count": 747,
   "id": "482effa4",
   "metadata": {},
   "outputs": [],
   "source": [
    "WW = torch.reshape(torch.tensor(gr_ih), n_dim)\n",
    "tr_ih = vectorize_tl(HOSVD_rank_app(WW,r))\n",
    "\n",
    "WW = torch.reshape(torch.tensor(gr_kz), n_dim)\n",
    "tr_kz = HOSVD_rank_app(WW,r)"
   ]
  },
  {
   "cell_type": "code",
   "execution_count": 748,
   "id": "00826835",
   "metadata": {
    "scrolled": true
   },
   "outputs": [
    {
     "name": "stdout",
     "output_type": "stream",
     "text": [
      "26429.536512847364\n",
      "23.754479340894612\n"
     ]
    }
   ],
   "source": [
    "print(np.linalg.norm(A@np.ravel(np.array(tr_ih))-b))\n",
    "print(np.linalg.norm(A@np.ravel(np.array(tr_kz))-b))"
   ]
  },
  {
   "cell_type": "code",
   "execution_count": 754,
   "id": "7f0dce0c",
   "metadata": {},
   "outputs": [],
   "source": [
    "## Before thresholding iteration 3\n",
    "\n",
    "gr_ih = np.array(vectorize_tl(IHT_X[2])) + lamda* np.matmul(A.T, (b - np.matmul(A, np.array(vectorize_tl(IHT_X[2])))))\n",
    "y = KZIHT_X[2]\n",
    "                                                            \n",
    "for j in range(m): #Inner iteration for Kaczmarz updates\n",
    "            \n",
    "        a = A[p[j],:]\n",
    "        y = y + gamma*(b[p[j]] - a@y)*a/(np.linalg.norm(a)**2)\n",
    "\n",
    "gr_kz = y "
   ]
  },
  {
   "cell_type": "code",
   "execution_count": 755,
   "id": "51431b68",
   "metadata": {},
   "outputs": [
    {
     "data": {
      "text/plain": [
       "431765.54997602466"
      ]
     },
     "execution_count": 755,
     "metadata": {},
     "output_type": "execute_result"
    }
   ],
   "source": [
    "np.linalg.norm(A@gr_ih-b)"
   ]
  },
  {
   "cell_type": "code",
   "execution_count": 756,
   "id": "7f63d36a",
   "metadata": {
    "scrolled": true
   },
   "outputs": [
    {
     "data": {
      "text/plain": [
       "46.75924478793503"
      ]
     },
     "execution_count": 756,
     "metadata": {},
     "output_type": "execute_result"
    }
   ],
   "source": [
    "np.linalg.norm(A@gr_kz-b)"
   ]
  },
  {
   "cell_type": "code",
   "execution_count": 757,
   "id": "4766807b",
   "metadata": {},
   "outputs": [],
   "source": [
    "WW = torch.reshape(torch.tensor(gr_ih), n_dim)\n",
    "tr_ih = vectorize_tl(HOSVD_rank_app(WW,r))\n",
    "\n",
    "WW = torch.reshape(torch.tensor(gr_kz), n_dim)\n",
    "tr_kz = HOSVD_rank_app(WW,r)"
   ]
  },
  {
   "cell_type": "code",
   "execution_count": 758,
   "id": "132b0e32",
   "metadata": {},
   "outputs": [
    {
     "name": "stdout",
     "output_type": "stream",
     "text": [
      "416105.82046378404\n",
      "17.936240652434694\n"
     ]
    }
   ],
   "source": [
    "print(np.linalg.norm(A@np.ravel(np.array(tr_ih))-b))\n",
    "print(np.linalg.norm(A@np.ravel(np.array(tr_kz))-b))"
   ]
  },
  {
   "cell_type": "code",
   "execution_count": 670,
   "id": "15494bb0",
   "metadata": {
    "scrolled": true
   },
   "outputs": [
    {
     "name": "stdout",
     "output_type": "stream",
     "text": [
      "-0.016544322287792852\n",
      "-0.018764665638797213\n",
      "-0.008340169794793163\n",
      "-0.007728959147584248\n",
      "0.028155086455241674\n",
      "-0.023002744241638843\n",
      "-0.01915301150968904\n",
      "-0.007827405529836757\n",
      "-0.028118606862880403\n",
      "-0.008151300146660604\n",
      "0.023953244459121316\n",
      "0.020275816156071855\n",
      "0.011355681597675827\n",
      "0.014108953181935127\n",
      "-0.01483845468173448\n",
      "-0.001373574071064973\n",
      "0.009649960984579613\n",
      "-0.0007108258542152518\n",
      "0.015665518680568518\n",
      "-0.005497736699909162\n",
      "0.011054136003537291\n",
      "0.0030669203737879163\n",
      "-0.005921111066834805\n",
      "4.906124036206215e-06\n",
      "0.0002487320027907882\n",
      "-0.0052669736551852805\n",
      "0.000759885830098382\n",
      "-0.002285883492075064\n",
      "-0.00025598574474921236\n",
      "-0.015040668327687363\n",
      "-0.007274941353150803\n",
      "-0.011032503166841928\n",
      "0.004507324223249347\n",
      "0.0010139065082245457\n",
      "-0.012988353001010412\n",
      "-0.025802524332504878\n",
      "-0.02851531403778989\n",
      "0.010422233731235192\n",
      "-0.005526259950676128\n",
      "0.006442839960075683\n",
      "0.007308846418026562\n",
      "0.013061274935658293\n",
      "-0.011339616838702014\n",
      "-0.005439183387624965\n",
      "-0.027910352830741197\n",
      "-0.01479030896722967\n",
      "0.01949945322416487\n",
      "0.006753496099935659\n",
      "0.007842537647906182\n",
      "-0.016361862069753395\n"
     ]
    }
   ],
   "source": [
    "max1 = 0\n",
    "min1 = 0\n",
    "ang_1 = []\n",
    "ang_max = 0\n",
    "ang_min = 0\n",
    "for i in range(50):\n",
    "    ang = A[i,:]@(np.ravel(np.array(y_IHT_new))-x)/(np.linalg.norm(A[i,:])*np.linalg.norm(np.ravel(np.array(y_IHT_new))-x))\n",
    "    if i == 0:\n",
    "        ang_max = ang\n",
    "        ang_min = ang\n",
    "    else:\n",
    "        if ang > ang_max:\n",
    "            ang_max = ang\n",
    "            max1 = i\n",
    "        if ang< ang_min:\n",
    "            min1 = i\n",
    "    print(ang)\n",
    "    ang_1 = ang_1 + [ang]"
   ]
  },
  {
   "cell_type": "code",
   "execution_count": 672,
   "id": "7e30da2e",
   "metadata": {},
   "outputs": [],
   "source": [
    "hist, bins = np.histogram(np.array(ang_1), bins=20, range=None, density=None, weights=None)"
   ]
  },
  {
   "cell_type": "code",
   "execution_count": 673,
   "id": "4c3c9cf5",
   "metadata": {
    "scrolled": true
   },
   "outputs": [
    {
     "data": {
      "text/plain": [
       "<matplotlib.patches.StepPatch at 0x7fcf050fe9a0>"
      ]
     },
     "execution_count": 673,
     "metadata": {},
     "output_type": "execute_result"
    },
    {
     "data": {
      "image/png": "[encoded data removed]",
      "text/plain": [
       "<Figure size 432x288 with 1 Axes>"
      ]
     },
     "metadata": {
      "needs_background": "light"
     },
     "output_type": "display_data"
    }
   ],
   "source": [
    "plt.stairs(hist, bins)"
   ]
  },
  {
   "cell_type": "code",
   "execution_count": 687,
   "id": "32cc2d0e",
   "metadata": {},
   "outputs": [
    {
     "data": {
      "text/plain": [
       "4"
      ]
     },
     "execution_count": 687,
     "metadata": {},
     "output_type": "execute_result"
    }
   ],
   "source": [
    "b = np.delete(A, (max1,min1), )"
   ]
  },
  {
   "cell_type": "code",
   "execution_count": 675,
   "id": "46920120",
   "metadata": {},
   "outputs": [],
   "source": [
    "t = permutation(np.arange(m))\n",
    "\n",
    "y = vectorize_tl(y_IHT)\n",
    "        \n",
    "for j in range(m): #Inner iteration for Kaczmarz updates\n",
    "            \n",
    "    a = A[t[j],:]\n",
    "    y = y + gamma*(b[t[j]] - a@y)*a/(np.linalg.norm(a)**2)\n",
    "                        \n",
    "WW = torch.reshape(torch.tensor(y), n_dim)\n",
    "y = vectorize_tl(HOSVD_rank_app(WW,r))"
   ]
  },
  {
   "cell_type": "code",
   "execution_count": 676,
   "id": "dd4b25ff",
   "metadata": {
    "scrolled": true
   },
   "outputs": [
    {
     "name": "stdout",
     "output_type": "stream",
     "text": [
      "-0.01696430743154277\n",
      "-0.017562741046742728\n",
      "-4.4888834558077106e-05\n",
      "8.325127291528803e-06\n",
      "0.025630698933814717\n",
      "-0.014848723716232602\n",
      "-0.013983093875632659\n",
      "-0.010738942819249558\n",
      "-0.023253890255659923\n",
      "-0.010105996252780957\n",
      "0.01217500755736613\n",
      "0.01409246965357508\n",
      "0.007959208244212895\n",
      "0.017347729392362846\n",
      "-0.010608384022931747\n",
      "0.013714916211489117\n",
      "0.004517376443899827\n",
      "-0.008767439339297179\n",
      "0.027734946794037228\n",
      "-0.013389309416702319\n",
      "0.010034541665079963\n",
      "0.00033519997055412795\n",
      "-0.0018794661955254751\n",
      "-0.01031216159590351\n",
      "0.0012113187285924612\n",
      "-0.005395057215719683\n",
      "-0.0018633599248949202\n",
      "0.016763662334361353\n",
      "0.009525840075832643\n",
      "-0.012040715665317498\n",
      "0.0032726954581522804\n",
      "-0.014292218181847364\n",
      "0.004160199964176449\n",
      "-0.00128604534292706\n",
      "-0.006046892982910732\n",
      "-0.01183562006996712\n",
      "-0.033733770268693605\n",
      "0.0036544548118611743\n",
      "-0.017077856354616963\n",
      "0.011782065669136315\n",
      "0.010010054253046472\n",
      "0.010581830277294889\n",
      "-0.01721557173669665\n",
      "-0.004284700577218713\n",
      "-0.025496793977968602\n",
      "0.020461671037207068\n",
      "0.010982815595849271\n",
      "0.0030888225047938944\n",
      "-0.0010232824317555477\n",
      "0.007642324515799231\n"
     ]
    }
   ],
   "source": [
    "ang_2 = []\n",
    "for i in range(50):\n",
    "    ang = A[i,:]@(np.ravel(np.array(y))-x)/(np.linalg.norm(A[i,:])*np.linalg.norm(np.ravel(np.array(y))-x))\n",
    "    print(ang)\n",
    "    ang_2 = ang_2 + [ang]"
   ]
  },
  {
   "cell_type": "code",
   "execution_count": 677,
   "id": "15b70ba4",
   "metadata": {},
   "outputs": [],
   "source": [
    "hist, bins = np.histogram(np.array(ang_2), bins=20, range=None, density=None, weights=None)"
   ]
  },
  {
   "cell_type": "code",
   "execution_count": 678,
   "id": "ee9d7f19",
   "metadata": {},
   "outputs": [
    {
     "data": {
      "text/plain": [
       "<matplotlib.patches.StepPatch at 0x7fced9167130>"
      ]
     },
     "execution_count": 678,
     "metadata": {},
     "output_type": "execute_result"
    },
    {
     "data": {
      "image/png": "[encoded data removed]",
      "text/plain": [
       "<Figure size 432x288 with 1 Axes>"
      ]
     },
     "metadata": {
      "needs_background": "light"
     },
     "output_type": "display_data"
    }
   ],
   "source": [
    "plt.stairs(hist, bins)"
   ]
  },
  {
   "cell_type": "code",
   "execution_count": 684,
   "id": "679b6cf0",
   "metadata": {},
   "outputs": [
    {
     "name": "stdout",
     "output_type": "stream",
     "text": [
      "43.953029184065414\n",
      "61.82081388685306\n",
      "69.02755838943256\n",
      "71.35923467108468\n",
      "71.58475858643303\n"
     ]
    }
   ],
   "source": [
    "##########################################################\n",
    "#### Understanding first 5 iterations ####################\n",
    "\n",
    "## IHT\n",
    "\n",
    "for i in range(5):\n",
    "    \n",
    "    y = np.ravel(np.array(IHT_X[i]))\n",
    "    print(np.linalg.norm(A@(y-x))/np.linalg.norm(y-x))"
   ]
  },
  {
   "cell_type": "code",
   "execution_count": 685,
   "id": "b74fbd2e",
   "metadata": {},
   "outputs": [
    {
     "name": "stdout",
     "output_type": "stream",
     "text": [
      "45.72764437359409\n",
      "59.869550821743566\n",
      "68.0358562964393\n",
      "70.49475288751444\n",
      "72.19965839777049\n"
     ]
    }
   ],
   "source": [
    "## IHTN\n",
    "\n",
    "for i in range(5):\n",
    "    \n",
    "    y = np.ravel(np.array(IHTN_X[i]))\n",
    "    print(np.linalg.norm(A@(y-x))/np.linalg.norm(y-x))"
   ]
  },
  {
   "cell_type": "code",
   "execution_count": 686,
   "id": "26846b34",
   "metadata": {},
   "outputs": [
    {
     "name": "stdout",
     "output_type": "stream",
     "text": [
      "8.388087079266658\n",
      "7.2984521201077035\n",
      "6.655338240233401\n",
      "6.222192532180019\n",
      "5.904704109529353\n"
     ]
    }
   ],
   "source": [
    "## KZIHT\n",
    "\n",
    "for i in range(5):\n",
    "    \n",
    "    y = np.ravel(np.array(KZIHT_X[i]))\n",
    "    print(np.linalg.norm(A@(y-x))/np.linalg.norm(y-x))"
   ]
  },
  {
   "cell_type": "code",
   "execution_count": null,
   "id": "b87f9ecb",
   "metadata": {},
   "outputs": [],
   "source": [
    "########################################################################\n",
    "###### Looking at just the gradient steps (Before thresholding)#########\n",
    "\n"
   ]
  }
 ],
 "metadata": {
  "kernelspec": {
   "display_name": "Python 3 (ipykernel)",
   "language": "python",
   "name": "python3"
  },
  "language_info": {
   "codemirror_mode": {
    "name": "ipython",
    "version": 3
   },
   "file_extension": ".py",
   "mimetype": "text/x-python",
   "name": "python",
   "nbconvert_exporter": "python",
   "pygments_lexer": "ipython3",
   "version": "3.9.7"
  }
 },
 "nbformat": 4,
 "nbformat_minor": 5
}
