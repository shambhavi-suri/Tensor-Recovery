{
 "cells": [
  {
   "cell_type": "code",
   "execution_count": 2,
   "id": "88fa3247",
   "metadata": {},
   "outputs": [],
   "source": [
    "#Imports\n",
    "import torch\n",
    "import torch.nn.functional as F\n",
    "\n",
    "import tensorly as tl\n",
    "from tensorly import decomposition\n",
    "from tensorly import random\n",
    "from tensorly.decomposition import parafac\n",
    "\n",
    "import numpy as np\n",
    "from scipy.stats import ortho_group\n",
    "from scipy import linalg\n",
    "import pandas as pd\n",
    "\n",
    "import matplotlib.pyplot as plt\n",
    "from matplotlib.pyplot import imshow\n",
    "\n",
    "from PIL import Image\n",
    "\n",
    "from scipy.linalg import dft\n",
    "\n",
    "import timeit"
   ]
  },
  {
   "cell_type": "code",
   "execution_count": 3,
   "id": "d7a79ac2",
   "metadata": {},
   "outputs": [],
   "source": [
    "### Khatri-Rao Random Projection\n",
    "A_1 = np.random.normal(0.0,1.0,(10,900))\n",
    "A_2 = np.random.normal(0.0,1.0,(10,900))\n",
    "A_3 = np.random.normal(0.0,1.0,(10,900))\n",
    "A_4 = linalg.khatri_rao(A_1,linalg.khatri_rao(A_2,A_3))"
   ]
  },
  {
   "cell_type": "code",
   "execution_count": 4,
   "id": "2c9a2116",
   "metadata": {},
   "outputs": [
    {
     "data": {
      "text/plain": [
       "0.9719847016719102"
      ]
     },
     "execution_count": 4,
     "metadata": {},
     "output_type": "execute_result"
    }
   ],
   "source": [
    "### Embedding of Random Vectors\n",
    "y = np.random.normal(0,1,1000)\n",
    "y = y/np.linalg.norm(y)\n",
    "np.linalg.norm(A_4.T@y)*(1/np.sqrt(900))"
   ]
  },
  {
   "cell_type": "code",
   "execution_count": 5,
   "id": "64d81adf",
   "metadata": {},
   "outputs": [],
   "source": [
    "#### Generate Random Mode-3 low CP rank Tensors #######\n",
    "\n",
    "def random_low_cp_rank(n,r):   #### CP Rank r\n",
    "    #torch.manual_seed(0)\n",
    "    #np.random.seed(0)\n",
    "    \n",
    "    L = []\n",
    "    for i in range(0,len(n)):\n",
    "        C = np.random.normal(0,1,size=(n[i],r))\n",
    "        L = L + [C]\n",
    "    \n",
    "    X = np.zeros(n)\n",
    "    for i in range(r):\n",
    "        U_r = np.array(L[0])[:,i]\n",
    "        for j in range(1, len(n)):\n",
    "            prod = np.array(L[j])[:,i]\n",
    "            U_r = np.multiply.outer(U_r,prod)\n",
    "        X = X + U_r\n",
    "        \n",
    "    C=tl.tensor(X) #Changing data frame to tensor\n",
    "    C.shape\n",
    "    return C"
   ]
  },
  {
   "cell_type": "code",
   "execution_count": 6,
   "id": "3739f0d0",
   "metadata": {},
   "outputs": [],
   "source": [
    "n = (20,20,20) ### Mode 3 rank 2 tensors\n",
    "dim = 6500\n",
    "\n",
    "X = random_low_cp_rank(n,2)\n",
    "X_ravel = np.ravel(X)\n",
    "X_ravel = X_ravel/np.linalg.norm(X_ravel)\n",
    "\n",
    "## Generating Khatri-Rao Random Projection Matrix\n",
    "\n",
    "A_1 = np.random.normal(0.0,1.0,(n[0],dim))\n",
    "A_2 = np.random.normal(0.0,1.0,(n[1],dim))\n",
    "A_3 = np.random.normal(0.0,1.0,(n[2],dim))\n",
    "A_4 = linalg.khatri_rao(A_1,linalg.khatri_rao(A_2,A_3))\n",
    "\n",
    "AA = A_4.T*(1/np.sqrt(dim))\n",
    "\n",
    "freedom = dim*np.sum(n)"
   ]
  },
  {
   "cell_type": "code",
   "execution_count": 7,
   "id": "9a3092c2",
   "metadata": {},
   "outputs": [
    {
     "data": {
      "text/plain": [
       "0.03495614483408904"
      ]
     },
     "execution_count": 7,
     "metadata": {},
     "output_type": "execute_result"
    }
   ],
   "source": [
    "## Checking if this is a reasonable Random Projection\n",
    "np.abs(np.linalg.norm(AA@X_ravel)-1)"
   ]
  },
  {
   "cell_type": "code",
   "execution_count": 8,
   "id": "b1e467cd",
   "metadata": {},
   "outputs": [],
   "source": [
    "## TIHT Preliminaries\n",
    "\n",
    "def low_rank_approx(tensor,r):    \n",
    "    #torch.manual_seed(0)\n",
    "    factors = parafac(tl.tensor(tensor), rank=r)\n",
    "    answer = tl.cp_to_tensor(factors)\n",
    "    return answer\n",
    "\n",
    "def vectorize_1(X): ##Vectorisation for tensors\n",
    "    x=X.numpy()\n",
    "    x=x.reshape(-1)\n",
    "    return x\n",
    "\n",
    "def vectorize(X):  ##Vecorisation for numpy arrays\n",
    "    x=X\n",
    "    x=x.reshape(-1)\n",
    "    return x"
   ]
  },
  {
   "cell_type": "code",
   "execution_count": 317,
   "id": "b087cab4",
   "metadata": {},
   "outputs": [
    {
     "name": "stdout",
     "output_type": "stream",
     "text": [
      "89.29776698874161\n",
      "89.29776698874161\n"
     ]
    }
   ],
   "source": [
    "#Initialisation of TIHT\n",
    "\n",
    "vXX = torch.randn(n)\n",
    "print(np.linalg.norm(vectorize(vXX)- X_ravel))\n",
    "yy = np.matmul(AA, np.array(vectorize(X_ravel)))\n",
    "Diff = np.linalg.norm(vectorize(vXX)- X_ravel)/np.linalg.norm(X_ravel)\n",
    "print(Diff)"
   ]
  },
  {
   "cell_type": "code",
   "execution_count": 318,
   "id": "82ae5103",
   "metadata": {},
   "outputs": [
    {
     "name": "stdout",
     "output_type": "stream",
     "text": [
      "Converges in: 47  iterations with error:  0.0009124096520409628\n"
     ]
    }
   ],
   "source": [
    "## Understanding the importance of momenetum or step size???\n",
    "\n",
    "j = 0\n",
    "num_its = 1000\n",
    "\n",
    "while j < num_its and Diff > 0.001:\n",
    "    WW = np.array(vectorize(vXX)) + 0.3 * np.matmul(AA.T, (yy - np.matmul(AA, np.array(vectorize(vXX)))))\n",
    "    WW = torch.reshape(torch.tensor(WW), n)\n",
    "    vXX = low_rank_approx(WW,2)\n",
    "    Diff = np.linalg.norm(vectorize(vXX)- X_ravel)\n",
    "    #print(Diff)\n",
    "    j = j + 1\n",
    "    \n",
    "print(\"Converges in:\", j, \" iterations with error: \", Diff )"
   ]
  },
  {
   "cell_type": "code",
   "execution_count": 379,
   "id": "8a496436",
   "metadata": {
    "scrolled": true
   },
   "outputs": [],
   "source": [
    "### Considering Higher Rank Case ###\n",
    "\n",
    "n = (20,20,20) ### Mode 3 rank 2 tensors\n",
    "dim = 6000\n",
    "\n",
    "X = random_low_cp_rank(n,3)\n",
    "X_ravel = np.ravel(X)\n",
    "X_ravel = X_ravel/np.linalg.norm(X_ravel)\n",
    "\n",
    "## Generating Khatri-Rao Random Projection Matrix\n",
    "\n",
    "A_1 = np.random.normal(0.0,1.0,(n[0],dim))\n",
    "A_2 = np.random.normal(0.0,1.0,(n[1],dim))\n",
    "A_3 = np.random.normal(0.0,1.0,(n[2],dim))\n",
    "A_4 = linalg.khatri_rao(A_1,linalg.khatri_rao(A_2,A_3))\n",
    "\n",
    "AA = A_4.T*(1/np.sqrt(dim))\n",
    "\n",
    "freedom = dim*np.sum(n)\n"
   ]
  },
  {
   "cell_type": "code",
   "execution_count": 380,
   "id": "ea35d49b",
   "metadata": {},
   "outputs": [
    {
     "name": "stdout",
     "output_type": "stream",
     "text": [
      "90.30665122592872\n",
      "90.30665122592872\n"
     ]
    }
   ],
   "source": [
    "vXX = torch.randn(n)\n",
    "print(np.linalg.norm(vectorize(vXX)- X_ravel))\n",
    "yy = np.matmul(AA, np.array(vectorize(X_ravel)))\n",
    "Diff = np.linalg.norm(vectorize(vXX)- X_ravel)/np.linalg.norm(X_ravel)\n",
    "print(Diff)"
   ]
  },
  {
   "cell_type": "code",
   "execution_count": 381,
   "id": "81f2ad88",
   "metadata": {},
   "outputs": [
    {
     "name": "stdout",
     "output_type": "stream",
     "text": [
      "Converges in: 52  iterations with error:  0.0008199912905570052\n"
     ]
    }
   ],
   "source": [
    "j = 0\n",
    "num_its = 1000\n",
    "\n",
    "while j < num_its and Diff > 0.001:\n",
    "    WW = np.array(vectorize(vXX)) + 0.3 * np.matmul(AA.T, (yy - np.matmul(AA, np.array(vectorize(vXX)))))\n",
    "    WW = torch.reshape(torch.tensor(WW), n)\n",
    "    vXX = low_rank_approx(WW,3)\n",
    "    Diff = np.linalg.norm(vectorize(vXX)- X_ravel)\n",
    "    #print(Diff)\n",
    "    j = j + 1\n",
    "    \n",
    "print(\"Converges in:\", j, \" iterations with error: \", Diff )"
   ]
  },
  {
   "cell_type": "code",
   "execution_count": 382,
   "id": "4e12c267",
   "metadata": {},
   "outputs": [],
   "source": [
    "## TIHT Convergence; Rank r = 3\n",
    "\n",
    "n = (20,20,20) ### Mode 3 rank 3 tensors\n",
    "dim = [5000, 5500, 6000, 6500]\n",
    "dim_err = []\n",
    "\n",
    "for r in range(len(dim)):\n",
    "    A_1 = np.random.normal(0.0,1.0,(n[0],dim[r]))\n",
    "    A_2 = np.random.normal(0.0,1.0,(n[1],dim[r]))\n",
    "    A_3 = np.random.normal(0.0,1.0,(n[2],dim[r]))\n",
    "    A_4 = linalg.khatri_rao(A_1,linalg.khatri_rao(A_2,A_3))\n",
    "    num_samples = 50\n",
    "\n",
    "    AA = A_4.T*(1/np.sqrt(dim[r]))\n",
    "    err = []\n",
    "\n",
    "    for k in range(num_samples):\n",
    "        X = random_low_cp_rank(n,3)\n",
    "        X_ravel = np.ravel(X)\n",
    "        X_ravel = X_ravel/np.linalg.norm(X_ravel)\n",
    "        err_k = []\n",
    "    \n",
    "        vXX = torch.randn(n)\n",
    "        yy = np.matmul(AA, np.array(vectorize(X_ravel)))\n",
    "        Diff = np.linalg.norm(vectorize(vXX)- X_ravel)/np.linalg.norm(X_ravel)\n",
    "        j = 0\n",
    "    \n",
    "        while j < 100:\n",
    "            WW = np.array(vectorize(vXX)) + 0.3 * np.matmul(AA.T, (yy - np.matmul(AA, np.array(vectorize(vXX)))))\n",
    "            WW = torch.reshape(torch.tensor(WW), n)\n",
    "            vXX = low_rank_approx(WW,3)\n",
    "            Diff = np.linalg.norm(vectorize(vXX)- X_ravel)\n",
    "            err_k = err_k + [Diff]\n",
    "            j = j+1  \n",
    "        err = err + [err_k]\n",
    "    \n",
    "    err = np.array(err)\n",
    "    avg = np.mean(err, axis = 0)\n",
    "\n",
    "    dim_err = dim_err + [avg]"
   ]
  },
  {
   "cell_type": "code",
   "execution_count": 387,
   "id": "7b0e7c3e",
   "metadata": {},
   "outputs": [
    {
     "data": {
      "image/png": "[encoded data removed]",
      "text/plain": [
       "<Figure size 432x288 with 1 Axes>"
      ]
     },
     "metadata": {
      "needs_background": "light"
     },
     "output_type": "display_data"
    }
   ],
   "source": [
    "plt.figure()\n",
    "plt.title(\"\", pad = 14, loc = \"center\")\n",
    "plt.plot(range(20,100), np.array(dim_err[0])[20:],  label= \"dim = 5000\", linestyle='-')\n",
    "plt.plot(range(20,100), np.array(dim_err[1])[20:], label= \"dim = 5500\", linestyle='--')\n",
    "plt.plot(range(20,100), np.array(dim_err[2])[20:], label= \"dim = 6000\", linestyle =  (0, (5, 10)))\n",
    "plt.plot(range(20,100), np.array(dim_err[3])[20:], label= \"dim = 6500\", linestyle='-.')\n",
    "plt.legend(title=\"Error with Iterations\")\n",
    "plt.xlabel(xlabel=\"Iterations\",labelpad = 0)\n",
    "plt.ylabel(ylabel=\"Error\",labelpad = 0)\n",
    "plt.savefig('Fig_2_Khatri_Rao.png', dpi=300,  bbox_inches=\"tight\")"
   ]
  },
  {
   "cell_type": "code",
   "execution_count": 386,
   "id": "88136e86",
   "metadata": {},
   "outputs": [
    {
     "data": {
      "image/png": "[encoded data removed]",
      "text/plain": [
       "<Figure size 432x288 with 1 Axes>"
      ]
     },
     "metadata": {
      "needs_background": "light"
     },
     "output_type": "display_data"
    }
   ],
   "source": [
    "plt.figure()\n",
    "plt.title(\"\", pad = 14, loc = \"center\")\n",
    "plt.plot(range(40,100), np.array(dim_err[0])[40:],  label= \"dim = 5000\", linestyle='-')\n",
    "plt.plot(range(40,100), np.array(dim_err[1])[40:], label= \"dim = 5500\", linestyle='--')\n",
    "plt.plot(range(40,100), np.array(dim_err[2])[40:], label= \"dim = 6000\", linestyle =  (0, (5, 10)))\n",
    "plt.plot(range(40,100), np.array(dim_err[3])[40:], label= \"dim = 6500\", linestyle='-.')\n",
    "plt.legend(title=\"Error with Iterations\")\n",
    "plt.xlabel(xlabel=\"Iterations\",labelpad = 0)\n",
    "plt.ylabel(ylabel=\"Error\",labelpad = 0)\n",
    "plt.savefig('Fig_1_Khatri_Rao.png', dpi=300,  bbox_inches=\"tight\")"
   ]
  },
  {
   "cell_type": "code",
   "execution_count": 418,
   "id": "24dea25c",
   "metadata": {},
   "outputs": [],
   "source": [
    "## Sparse Johnson Lindenstrauss Transformations\n",
    "\n",
    "def SJLT(dim, n , s):    ##Based on rademacher\n",
    "    delta = np.zeros((s,n))\n",
    "    matrix = np.zeros((dim,n))\n",
    "    sigma = np.zeros((dim,n))\n",
    "    \n",
    "    for i in range(s): \n",
    "        for j in range(n): \n",
    "            delta[i, j] = np.random.randint(2) * 2 - 1\n",
    "    \n",
    "    #ones = np.zeros(s)+1\n",
    "    for i in range(n):\n",
    "        sparse_col = np.random.choice(dim, s, replace=False)\n",
    "        #sigma[sparse_col,i] = ones\n",
    "        matrix[sparse_col,i] = delta[:,i]\n",
    "        \n",
    "    return np.sqrt(1/s)*matrix\n",
    "\n",
    "\n",
    "## Sparsifying Random Gaussian Matrices\n",
    "\n",
    "def sparse_gaussian(dim, n , s):      ##Based on Random Gaussian\n",
    "    delta = np.random.normal(0.0,1.0,(s,n))\n",
    "    matrix = np.zeros((dim,n))\n",
    "    sigma = np.zeros((dim,n))\n",
    "\n",
    "    \n",
    "    #ones = np.zeros(s)+1\n",
    "    for i in range(n):\n",
    "        sparse_col = np.random.choice(dim, s, replace=False)\n",
    "        #sigma[sparse_col,i] = ones\n",
    "        matrix[sparse_col,i] = delta[:,i]\n",
    "        \n",
    "    return np.sqrt(1/s)*matrix\n",
    "\n"
   ]
  },
  {
   "cell_type": "code",
   "execution_count": 422,
   "id": "3f0b42e6",
   "metadata": {},
   "outputs": [],
   "source": [
    "##Sparse Johnson Lindenstrauss - Rademacher based\n",
    "\n",
    "n = (20,20,20) ### Mode 3 rank 2 tensors\n",
    "n_prod = 20*20*20\n",
    "dim = 6500\n",
    "s = 5500\n",
    "\n",
    "X = random_low_cp_rank(n,2)\n",
    "X_ravel = np.ravel(X)\n",
    "X_ravel = X_ravel/np.linalg.norm(X_ravel)\n",
    "\n",
    "## Generating SJLT Random Projection Matrix\n",
    "\n",
    "AA = SJLT(dim,n_prod,s)"
   ]
  },
  {
   "cell_type": "code",
   "execution_count": 423,
   "id": "d95b7469",
   "metadata": {},
   "outputs": [
    {
     "data": {
      "text/plain": [
       "0.004747077847064851"
      ]
     },
     "execution_count": 423,
     "metadata": {},
     "output_type": "execute_result"
    }
   ],
   "source": [
    "## Checking if this is a reasonable Random Projection\n",
    "\n",
    "np.abs(np.linalg.norm(AA@X_ravel)-1)"
   ]
  },
  {
   "cell_type": "code",
   "execution_count": 424,
   "id": "200fbba9",
   "metadata": {},
   "outputs": [
    {
     "name": "stdout",
     "output_type": "stream",
     "text": [
      "90.09264570564216\n",
      "90.09264570564216\n"
     ]
    }
   ],
   "source": [
    "vXX = torch.randn(n)\n",
    "print(np.linalg.norm(vectorize(vXX)- X_ravel))\n",
    "yy = np.matmul(AA, np.array(vectorize(X_ravel)))\n",
    "Diff = np.linalg.norm(vectorize(vXX)- X_ravel)/np.linalg.norm(X_ravel)\n",
    "print(Diff)"
   ]
  },
  {
   "cell_type": "code",
   "execution_count": 425,
   "id": "c5fbdcf9",
   "metadata": {},
   "outputs": [
    {
     "name": "stdout",
     "output_type": "stream",
     "text": [
      "Converges in: 36  iterations with error:  0.0009314938090098009\n"
     ]
    }
   ],
   "source": [
    "j = 0\n",
    "num_its = 1000\n",
    "\n",
    "while j < num_its and Diff > 0.001:\n",
    "    WW = np.array(vectorize(vXX)) + 0.3 * np.matmul(AA.T, (yy - np.matmul(AA, np.array(vectorize(vXX)))))\n",
    "    WW = torch.reshape(torch.tensor(WW), n)\n",
    "    vXX = low_rank_approx(WW,3)\n",
    "    Diff = np.linalg.norm(vectorize(vXX)- X_ravel)\n",
    "    #print(Diff)\n",
    "    j = j + 1\n",
    "    \n",
    "print(\"Converges in:\", j, \" iterations with error: \", Diff )"
   ]
  },
  {
   "cell_type": "code",
   "execution_count": 447,
   "id": "b2f9a8c6",
   "metadata": {},
   "outputs": [
    {
     "name": "stdout",
     "output_type": "stream",
     "text": [
      "0\n",
      "1\n",
      "2\n",
      "3\n",
      "4\n",
      "5\n",
      "6\n",
      "7\n",
      "8\n",
      "9\n",
      "10\n",
      "11\n",
      "12\n",
      "13\n",
      "14\n",
      "15\n",
      "16\n",
      "17\n",
      "18\n",
      "19\n",
      "20\n",
      "21\n",
      "22\n",
      "23\n",
      "24\n",
      "25\n",
      "26\n",
      "27\n",
      "28\n",
      "29\n",
      "30\n",
      "31\n",
      "32\n",
      "33\n",
      "34\n",
      "35\n",
      "36\n",
      "37\n",
      "38\n",
      "39\n",
      "40\n",
      "41\n",
      "42\n",
      "43\n",
      "44\n",
      "45\n",
      "46\n",
      "47\n",
      "48\n",
      "49\n",
      "0\n",
      "1\n",
      "2\n",
      "3\n",
      "4\n",
      "5\n",
      "6\n",
      "7\n",
      "8\n",
      "9\n",
      "10\n",
      "11\n",
      "12\n",
      "13\n",
      "14\n",
      "15\n",
      "16\n",
      "17\n",
      "18\n",
      "19\n",
      "20\n",
      "21\n",
      "22\n",
      "23\n",
      "24\n",
      "25\n",
      "26\n",
      "27\n",
      "28\n",
      "29\n",
      "30\n",
      "31\n",
      "32\n",
      "33\n",
      "34\n",
      "35\n",
      "36\n",
      "37\n",
      "38\n",
      "39\n",
      "40\n",
      "41\n",
      "42\n",
      "43\n",
      "44\n",
      "45\n",
      "46\n",
      "47\n",
      "48\n",
      "49\n",
      "0\n",
      "1\n",
      "2\n",
      "3\n",
      "4\n",
      "5\n",
      "6\n",
      "7\n",
      "8\n",
      "9\n",
      "10\n",
      "11\n",
      "12\n",
      "13\n",
      "14\n",
      "15\n",
      "16\n",
      "17\n",
      "18\n",
      "19\n",
      "20\n",
      "21\n",
      "22\n",
      "23\n",
      "24\n",
      "25\n",
      "26\n",
      "27\n",
      "28\n",
      "29\n",
      "30\n",
      "31\n",
      "32\n",
      "33\n",
      "34\n",
      "35\n",
      "36\n",
      "37\n",
      "38\n",
      "39\n",
      "40\n",
      "41\n",
      "42\n",
      "43\n",
      "44\n",
      "45\n",
      "46\n",
      "47\n",
      "48\n",
      "49\n",
      "0\n",
      "1\n",
      "2\n",
      "3\n",
      "4\n",
      "5\n",
      "6\n",
      "7\n",
      "8\n",
      "9\n",
      "10\n",
      "11\n",
      "12\n",
      "13\n",
      "14\n",
      "15\n",
      "16\n",
      "17\n",
      "18\n",
      "19\n",
      "20\n",
      "21\n",
      "22\n",
      "23\n",
      "24\n",
      "25\n",
      "26\n",
      "27\n",
      "28\n",
      "29\n",
      "30\n",
      "31\n",
      "32\n",
      "33\n",
      "34\n",
      "35\n",
      "36\n",
      "37\n",
      "38\n",
      "39\n",
      "40\n",
      "41\n",
      "42\n",
      "43\n",
      "44\n",
      "45\n",
      "46\n",
      "47\n",
      "48\n",
      "49\n"
     ]
    }
   ],
   "source": [
    "## TIHT Convergence; Rank r = 3, Changing Dimension keeping sparsity percentage constant at 0.8\n",
    "\n",
    "n = (20,20,20) ### Mode 3 rank 3 tensors\n",
    "dim = [4000,5000,6000,7000]\n",
    "s = [3200,4000,4800,5600]\n",
    "s_err = []\n",
    "\n",
    "for r in range(len(s)):\n",
    "    AA = SJLT(dim[r],n_prod,s[r])\n",
    "    num_samples = 50\n",
    "\n",
    "    err = []\n",
    "\n",
    "    for k in range(num_samples):\n",
    "        print(k)\n",
    "        X = random_low_cp_rank(n,3)\n",
    "        X_ravel = np.ravel(X)\n",
    "        X_ravel = X_ravel/np.linalg.norm(X_ravel)\n",
    "        err_k = []\n",
    "    \n",
    "        vXX = torch.randn(n)\n",
    "        yy = np.matmul(AA, np.array(vectorize(X_ravel)))\n",
    "        Diff = np.linalg.norm(vectorize(vXX)- X_ravel)/np.linalg.norm(X_ravel)\n",
    "        j = 0\n",
    "    \n",
    "        while j < 100:\n",
    "            WW = np.array(vectorize(vXX)) + 0.3 * np.matmul(AA.T, (yy - np.matmul(AA, np.array(vectorize(vXX)))))\n",
    "            WW = torch.reshape(torch.tensor(WW), n)\n",
    "            vXX = low_rank_approx(WW,3)\n",
    "            Diff = np.linalg.norm(vectorize(vXX)- X_ravel)\n",
    "            err_k = err_k + [Diff]\n",
    "            j = j+1  \n",
    "        err = err + [err_k]\n",
    "    \n",
    "    err = np.array(err)\n",
    "    avg = np.mean(err, axis = 0)\n",
    "\n",
    "    s_err = s_err + [avg]"
   ]
  },
  {
   "cell_type": "code",
   "execution_count": 449,
   "id": "dd076a64",
   "metadata": {},
   "outputs": [
    {
     "data": {
      "image/png": "[encoded data removed]",
      "text/plain": [
       "<Figure size 432x288 with 1 Axes>"
      ]
     },
     "metadata": {
      "needs_background": "light"
     },
     "output_type": "display_data"
    }
   ],
   "source": [
    "plt.figure()\n",
    "plt.title(\"\", pad = 14, loc = \"center\")\n",
    "plt.plot(range(20,100), np.array(s_err[0])[20:],  label= \"dim = 4000\", linestyle='-')\n",
    "plt.plot(range(20,100), np.array(s_err[1])[20:], label= \"dim = 5000\", linestyle='--')\n",
    "plt.plot(range(20,100), np.array(s_err[2])[20:], label= \"dim = 6000\", linestyle =  (0, (5, 10)))\n",
    "plt.plot(range(20,100), np.array(s_err[3])[20:], label= \"dim = 7000\", linestyle='-.')\n",
    "plt.legend(title=\"Error with Iterations\")\n",
    "plt.xlabel(xlabel=\"Iterations\",labelpad = 0)\n",
    "plt.ylabel(ylabel=\"Error\",labelpad = 0)\n",
    "plt.savefig('Fig_4_SJLT.png', dpi=300,  bbox_inches=\"tight\")"
   ]
  },
  {
   "cell_type": "code",
   "execution_count": 450,
   "id": "126dfa02",
   "metadata": {
    "scrolled": true
   },
   "outputs": [
    {
     "data": {
      "image/png": "[encoded data removed]",
      "text/plain": [
       "<Figure size 432x288 with 1 Axes>"
      ]
     },
     "metadata": {
      "needs_background": "light"
     },
     "output_type": "display_data"
    }
   ],
   "source": [
    "plt.figure()\n",
    "plt.title(\"\", pad = 14, loc = \"center\")\n",
    "plt.plot(range(40,100), np.array(s_err[0])[40:],  label= \"s = 4000\", linestyle='-')\n",
    "plt.plot(range(40,100), np.array(s_err[1])[40:], label= \"s = 5000\", linestyle='--')\n",
    "plt.plot(range(40,100), np.array(s_err[2])[40:], label= \"s = 6000\", linestyle =  (0, (5, 10)))\n",
    "plt.plot(range(40,100), np.array(s_err[3])[40:], label= \"s = 7000\", linestyle='-.')\n",
    "plt.legend(title=\"Error with Iterations\")\n",
    "plt.xlabel(xlabel=\"Iterations\",labelpad = 0)\n",
    "plt.ylabel(ylabel=\"Error\",labelpad = 0)\n",
    "plt.savefig('Fig_5_SJLT.png', dpi=300,  bbox_inches=\"tight\")"
   ]
  },
  {
   "cell_type": "code",
   "execution_count": 427,
   "id": "41d42bbd",
   "metadata": {},
   "outputs": [],
   "source": [
    "## TIHT Convergence; Rank r = 3, Fixed Dimension Changing Sparsity\n",
    "\n",
    "n = (20,20,20) ### Mode 3 rank 3 tensors\n",
    "dim = 6000\n",
    "s = [4000,4500,5000,5500]\n",
    "s_err = []\n",
    "\n",
    "for r in range(len(s)):\n",
    "    AA = SJLT(dim,n_prod,s[r])\n",
    "    num_samples = 50\n",
    "\n",
    "    err = []\n",
    "\n",
    "    for k in range(num_samples):\n",
    "        X = random_low_cp_rank(n,3)\n",
    "        X_ravel = np.ravel(X)\n",
    "        X_ravel = X_ravel/np.linalg.norm(X_ravel)\n",
    "        err_k = []\n",
    "    \n",
    "        vXX = torch.randn(n)\n",
    "        yy = np.matmul(AA, np.array(vectorize(X_ravel)))\n",
    "        Diff = np.linalg.norm(vectorize(vXX)- X_ravel)/np.linalg.norm(X_ravel)\n",
    "        j = 0\n",
    "    \n",
    "        while j < 100:\n",
    "            WW = np.array(vectorize(vXX)) + 0.3 * np.matmul(AA.T, (yy - np.matmul(AA, np.array(vectorize(vXX)))))\n",
    "            WW = torch.reshape(torch.tensor(WW), n)\n",
    "            vXX = low_rank_approx(WW,3)\n",
    "            Diff = np.linalg.norm(vectorize(vXX)- X_ravel)\n",
    "            err_k = err_k + [Diff]\n",
    "            j = j+1  \n",
    "        err = err + [err_k]\n",
    "    \n",
    "    err = np.array(err)\n",
    "    avg = np.mean(err, axis = 0)\n",
    "\n",
    "    s_err = s_err + [avg]"
   ]
  },
  {
   "cell_type": "code",
   "execution_count": 428,
   "id": "0d505b01",
   "metadata": {},
   "outputs": [
    {
     "data": {
      "image/png": "[encoded data removed]",
      "text/plain": [
       "<Figure size 432x288 with 1 Axes>"
      ]
     },
     "metadata": {
      "needs_background": "light"
     },
     "output_type": "display_data"
    }
   ],
   "source": [
    "plt.figure()\n",
    "plt.title(\"\", pad = 14, loc = \"center\")\n",
    "plt.plot(range(20,100), np.array(s_err[0])[20:],  label= \"s = 4000\", linestyle='-')\n",
    "plt.plot(range(20,100), np.array(s_err[1])[20:], label= \"s = 4500\", linestyle='--')\n",
    "plt.plot(range(20,100), np.array(s_err[2])[20:], label= \"s = 5000\", linestyle =  (0, (5, 10)))\n",
    "plt.plot(range(20,100), np.array(s_err[3])[20:], label= \"s = 5500\", linestyle='-.')\n",
    "plt.legend(title=\"Error with Iterations\")\n",
    "plt.xlabel(xlabel=\"Iterations\",labelpad = 0)\n",
    "plt.ylabel(ylabel=\"Error\",labelpad = 0)\n",
    "plt.savefig('Fig_1_SJLT.png', dpi=300,  bbox_inches=\"tight\")"
   ]
  },
  {
   "cell_type": "code",
   "execution_count": 429,
   "id": "c59a6965",
   "metadata": {},
   "outputs": [
    {
     "data": {
      "image/png": "[encoded data removed]",
      "text/plain": [
       "<Figure size 432x288 with 1 Axes>"
      ]
     },
     "metadata": {
      "needs_background": "light"
     },
     "output_type": "display_data"
    }
   ],
   "source": [
    "plt.figure()\n",
    "plt.title(\"\", pad = 14, loc = \"center\")\n",
    "plt.plot(range(40,100), np.array(s_err[0])[40:],  label= \"s = 4000\", linestyle='-')\n",
    "plt.plot(range(40,100), np.array(s_err[1])[40:], label= \"s = 4500\", linestyle='--')\n",
    "plt.plot(range(40,100), np.array(s_err[2])[40:], label= \"s = 5000\", linestyle =  (0, (5, 10)))\n",
    "plt.plot(range(40,100), np.array(s_err[3])[40:], label= \"s = 5500\", linestyle='-.')\n",
    "plt.legend(title=\"Error with Iterations\")\n",
    "plt.xlabel(xlabel=\"Iterations\",labelpad = 0)\n",
    "plt.ylabel(ylabel=\"Error\",labelpad = 0)\n",
    "plt.savefig('Fig_2_SJLT.png', dpi=300,  bbox_inches=\"tight\")"
   ]
  },
  {
   "cell_type": "code",
   "execution_count": 430,
   "id": "b7b9f893",
   "metadata": {},
   "outputs": [],
   "source": [
    "##Sparse Johnson Lindenstrauss - Gaussian based\n",
    "\n",
    "n = (20,20,20) ### Mode 3 rank 2 tensors\n",
    "n_prod = 20*20*20\n",
    "dim = 6500\n",
    "s = 5500\n",
    "\n",
    "X = random_low_cp_rank(n,2)\n",
    "X_ravel = np.ravel(X)\n",
    "X_ravel = X_ravel/np.linalg.norm(X_ravel)\n",
    "\n",
    "## Generating Sparse Gaussian Random Projection Matrix\n",
    "\n",
    "AA = sparse_gaussian(dim,n_prod,s)"
   ]
  },
  {
   "cell_type": "code",
   "execution_count": 431,
   "id": "318e1a50",
   "metadata": {},
   "outputs": [
    {
     "data": {
      "text/plain": [
       "0.014330233168389439"
      ]
     },
     "execution_count": 431,
     "metadata": {},
     "output_type": "execute_result"
    }
   ],
   "source": [
    "## Checking if this is a reasonable Random Projection\n",
    "\n",
    "np.abs(np.linalg.norm(AA@X_ravel)-1)"
   ]
  },
  {
   "cell_type": "code",
   "execution_count": 432,
   "id": "36635547",
   "metadata": {},
   "outputs": [
    {
     "name": "stdout",
     "output_type": "stream",
     "text": [
      "89.97060170158811\n",
      "89.97060170158811\n"
     ]
    }
   ],
   "source": [
    "vXX = torch.randn(n)\n",
    "print(np.linalg.norm(vectorize(vXX)- X_ravel))\n",
    "yy = np.matmul(AA, np.array(vectorize(X_ravel)))\n",
    "Diff = np.linalg.norm(vectorize(vXX)- X_ravel)/np.linalg.norm(X_ravel)\n",
    "print(Diff)"
   ]
  },
  {
   "cell_type": "code",
   "execution_count": 433,
   "id": "4030e51c",
   "metadata": {},
   "outputs": [
    {
     "name": "stdout",
     "output_type": "stream",
     "text": [
      "Converges in: 37  iterations with error:  0.0009325367872819166\n"
     ]
    }
   ],
   "source": [
    "j = 0\n",
    "num_its = 1000\n",
    "\n",
    "while j < num_its and Diff > 0.001:\n",
    "    WW = np.array(vectorize(vXX)) + 0.3 * np.matmul(AA.T, (yy - np.matmul(AA, np.array(vectorize(vXX)))))\n",
    "    WW = torch.reshape(torch.tensor(WW), n)\n",
    "    vXX = low_rank_approx(WW,3)\n",
    "    Diff = np.linalg.norm(vectorize(vXX)- X_ravel)\n",
    "    #print(Diff)\n",
    "    j = j + 1\n",
    "    \n",
    "print(\"Converges in:\", j, \" iterations with error: \", Diff )"
   ]
  },
  {
   "cell_type": "code",
   "execution_count": 451,
   "id": "b62b861d",
   "metadata": {
    "scrolled": true
   },
   "outputs": [
    {
     "name": "stdout",
     "output_type": "stream",
     "text": [
      "0\n",
      "1\n",
      "2\n",
      "3\n",
      "4\n",
      "5\n",
      "6\n",
      "7\n",
      "8\n",
      "9\n",
      "10\n",
      "11\n",
      "12\n",
      "13\n",
      "14\n",
      "15\n",
      "16\n",
      "17\n",
      "18\n",
      "19\n",
      "20\n",
      "21\n",
      "22\n",
      "23\n",
      "24\n",
      "25\n",
      "26\n",
      "27\n",
      "28\n",
      "29\n",
      "30\n",
      "31\n",
      "32\n",
      "33\n",
      "34\n",
      "35\n",
      "36\n",
      "37\n",
      "38\n",
      "39\n",
      "40\n",
      "41\n",
      "42\n",
      "43\n",
      "44\n",
      "45\n",
      "46\n",
      "47\n",
      "48\n",
      "49\n",
      "0\n",
      "1\n",
      "2\n",
      "3\n",
      "4\n",
      "5\n",
      "6\n",
      "7\n",
      "8\n",
      "9\n",
      "10\n",
      "11\n",
      "12\n",
      "13\n",
      "14\n",
      "15\n",
      "16\n",
      "17\n",
      "18\n",
      "19\n",
      "20\n",
      "21\n",
      "22\n",
      "23\n",
      "24\n",
      "25\n",
      "26\n",
      "27\n",
      "28\n",
      "29\n",
      "30\n",
      "31\n",
      "32\n",
      "33\n",
      "34\n",
      "35\n",
      "36\n",
      "37\n",
      "38\n",
      "39\n",
      "40\n",
      "41\n",
      "42\n",
      "43\n",
      "44\n",
      "45\n",
      "46\n",
      "47\n",
      "48\n",
      "49\n",
      "0\n",
      "1\n",
      "2\n",
      "3\n",
      "4\n",
      "5\n",
      "6\n",
      "7\n",
      "8\n",
      "9\n",
      "10\n",
      "11\n",
      "12\n",
      "13\n",
      "14\n",
      "15\n",
      "16\n",
      "17\n",
      "18\n",
      "19\n",
      "20\n",
      "21\n",
      "22\n",
      "23\n",
      "24\n",
      "25\n",
      "26\n",
      "27\n",
      "28\n",
      "29\n",
      "30\n",
      "31\n",
      "32\n",
      "33\n",
      "34\n",
      "35\n",
      "36\n",
      "37\n",
      "38\n",
      "39\n",
      "40\n",
      "41\n",
      "42\n",
      "43\n",
      "44\n",
      "45\n",
      "46\n",
      "47\n",
      "48\n",
      "49\n",
      "0\n",
      "1\n",
      "2\n",
      "3\n",
      "4\n",
      "5\n",
      "6\n",
      "7\n",
      "8\n",
      "9\n",
      "10\n",
      "11\n",
      "12\n",
      "13\n",
      "14\n",
      "15\n",
      "16\n",
      "17\n",
      "18\n",
      "19\n",
      "20\n",
      "21\n",
      "22\n",
      "23\n",
      "24\n",
      "25\n",
      "26\n",
      "27\n",
      "28\n",
      "29\n",
      "30\n",
      "31\n",
      "32\n",
      "33\n",
      "34\n",
      "35\n",
      "36\n",
      "37\n",
      "38\n",
      "39\n",
      "40\n",
      "41\n",
      "42\n",
      "43\n",
      "44\n",
      "45\n",
      "46\n",
      "47\n",
      "48\n",
      "49\n"
     ]
    }
   ],
   "source": [
    "## TIHT Convergence; Rank r = 3, Changing Dimension keeping sparsity percentage constant at 0.8\n",
    "\n",
    "n = (20,20,20) ### Mode 3 rank 3 tensors\n",
    "dim = [4000,5000,6000,7000]\n",
    "s = [3200,4000,4800,5600]\n",
    "s_err = []\n",
    "\n",
    "for r in range(len(s)):\n",
    "    AA = sparse_gaussian(dim[r],n_prod,s[r])\n",
    "    num_samples = 50\n",
    "\n",
    "    err = []\n",
    "\n",
    "    for k in range(num_samples):\n",
    "        print(k)\n",
    "        X = random_low_cp_rank(n,3)\n",
    "        X_ravel = np.ravel(X)\n",
    "        X_ravel = X_ravel/np.linalg.norm(X_ravel)\n",
    "        err_k = []\n",
    "    \n",
    "        vXX = torch.randn(n)\n",
    "        yy = np.matmul(AA, np.array(vectorize(X_ravel)))\n",
    "        Diff = np.linalg.norm(vectorize(vXX)- X_ravel)/np.linalg.norm(X_ravel)\n",
    "        j = 0\n",
    "    \n",
    "        while j < 100:\n",
    "            WW = np.array(vectorize(vXX)) + 0.3 * np.matmul(AA.T, (yy - np.matmul(AA, np.array(vectorize(vXX)))))\n",
    "            WW = torch.reshape(torch.tensor(WW), n)\n",
    "            vXX = low_rank_approx(WW,3)\n",
    "            Diff = np.linalg.norm(vectorize(vXX)- X_ravel)\n",
    "            err_k = err_k + [Diff]\n",
    "            j = j+1  \n",
    "        err = err + [err_k]\n",
    "    \n",
    "    err = np.array(err)\n",
    "    avg = np.mean(err, axis = 0)\n",
    "\n",
    "    s_err = s_err + [avg]"
   ]
  },
  {
   "cell_type": "code",
   "execution_count": 452,
   "id": "c5327fea",
   "metadata": {},
   "outputs": [
    {
     "data": {
      "image/png": "[encoded data removed]",
      "text/plain": [
       "<Figure size 432x288 with 1 Axes>"
      ]
     },
     "metadata": {
      "needs_background": "light"
     },
     "output_type": "display_data"
    }
   ],
   "source": [
    "plt.figure()\n",
    "plt.title(\"\", pad = 14, loc = \"center\")\n",
    "plt.plot(range(20,100), np.array(s_err[0])[20:],  label= \"dim = 4000\", linestyle='-')\n",
    "plt.plot(range(20,100), np.array(s_err[1])[20:], label= \"dim = 5000\", linestyle='--')\n",
    "plt.plot(range(20,100), np.array(s_err[2])[20:], label= \"dim = 6000\", linestyle =  (0, (5, 10)))\n",
    "plt.plot(range(20,100), np.array(s_err[3])[20:], label= \"dim = 7000\", linestyle='-.')\n",
    "plt.legend(title=\"Error with Iterations\")\n",
    "plt.xlabel(xlabel=\"Iterations\",labelpad = 0)\n",
    "plt.ylabel(ylabel=\"Error\",labelpad = 0)\n",
    "plt.savefig('Fig_4_Sparse_gauss.png', dpi=300,  bbox_inches=\"tight\")"
   ]
  },
  {
   "cell_type": "code",
   "execution_count": 453,
   "id": "1a1635c3",
   "metadata": {
    "scrolled": true
   },
   "outputs": [
    {
     "data": {
      "image/png": "[encoded data removed]",
      "text/plain": [
       "<Figure size 432x288 with 1 Axes>"
      ]
     },
     "metadata": {
      "needs_background": "light"
     },
     "output_type": "display_data"
    }
   ],
   "source": [
    "plt.figure()\n",
    "plt.title(\"\", pad = 14, loc = \"center\")\n",
    "plt.plot(range(40,100), np.array(s_err[0])[40:],  label= \"dim = 4000\", linestyle='-')\n",
    "plt.plot(range(40,100), np.array(s_err[1])[40:], label= \"dim = 5000\", linestyle='--')\n",
    "plt.plot(range(40,100), np.array(s_err[2])[40:], label= \"dim = 6000\", linestyle =  (0, (5, 10)))\n",
    "plt.plot(range(40,100), np.array(s_err[3])[40:], label= \"dim = 7000\", linestyle='-.')\n",
    "plt.legend(title=\"Error with Iterations\")\n",
    "plt.xlabel(xlabel=\"Iterations\",labelpad = 0)\n",
    "plt.ylabel(ylabel=\"Error\",labelpad = 0)\n",
    "plt.savefig('Fig_5_Sparse_gauss.png', dpi=300,  bbox_inches=\"tight\")"
   ]
  },
  {
   "cell_type": "code",
   "execution_count": 439,
   "id": "99dedc57",
   "metadata": {},
   "outputs": [],
   "source": [
    "## TIHT Convergence; Rank r = 3, Fixed Dimension Changing Sparsity\n",
    "\n",
    "n = (20,20,20) ### Mode 3 rank 3 tensors\n",
    "dim = 6000\n",
    "s = [4000,4500,5000,5500]\n",
    "s_err = []\n",
    "\n",
    "for r in range(len(s)):\n",
    "    AA = sparse_gaussian(dim,n_prod,s[r])\n",
    "    num_samples = 50\n",
    "\n",
    "    err = []\n",
    "\n",
    "    for k in range(num_samples):\n",
    "        X = random_low_cp_rank(n,3)\n",
    "        X_ravel = np.ravel(X)\n",
    "        X_ravel = X_ravel/np.linalg.norm(X_ravel)\n",
    "        err_k = []\n",
    "    \n",
    "        vXX = torch.randn(n)\n",
    "        yy = np.matmul(AA, np.array(vectorize(X_ravel)))\n",
    "        Diff = np.linalg.norm(vectorize(vXX)- X_ravel)/np.linalg.norm(X_ravel)\n",
    "        j = 0\n",
    "    \n",
    "        while j < 100:\n",
    "            WW = np.array(vectorize(vXX)) + 0.3 * np.matmul(AA.T, (yy - np.matmul(AA, np.array(vectorize(vXX)))))\n",
    "            WW = torch.reshape(torch.tensor(WW), n)\n",
    "            vXX = low_rank_approx(WW,3)\n",
    "            Diff = np.linalg.norm(vectorize(vXX)- X_ravel)\n",
    "            err_k = err_k + [Diff]\n",
    "            j = j+1  \n",
    "        err = err + [err_k]\n",
    "    \n",
    "    err = np.array(err)\n",
    "    avg = np.mean(err, axis = 0)\n",
    "\n",
    "    s_err = s_err + [avg]"
   ]
  },
  {
   "cell_type": "code",
   "execution_count": 438,
   "id": "02db2c68",
   "metadata": {},
   "outputs": [
    {
     "data": {
      "image/png": "[encoded data removed]",
      "text/plain": [
       "<Figure size 432x288 with 1 Axes>"
      ]
     },
     "metadata": {
      "needs_background": "light"
     },
     "output_type": "display_data"
    }
   ],
   "source": [
    "plt.figure()\n",
    "plt.title(\"\", pad = 14, loc = \"center\")\n",
    "plt.plot(range(100), np.array(s_err[0])[:],  label= \"s = 4000\", linestyle='-')\n",
    "plt.plot(range(100), np.array(s_err[1])[:], label= \"s = 4500\", linestyle='--')\n",
    "plt.plot(range(100), np.array(s_err[2])[:], label= \"s = 5000\", linestyle =  (0, (5, 10)))\n",
    "plt.plot(range(100), np.array(s_err[3])[:], label= \"s = 5500\", linestyle='-.')\n",
    "plt.legend(title=\"Error with Iterations\")\n",
    "plt.xlabel(xlabel=\"Iterations\",labelpad = 0)\n",
    "plt.ylabel(ylabel=\"Error\",labelpad = 0)\n",
    "plt.savefig('Fig_3_Sparse_Gaussian.png', dpi=300,  bbox_inches=\"tight\")"
   ]
  },
  {
   "cell_type": "code",
   "execution_count": 436,
   "id": "4e77c667",
   "metadata": {},
   "outputs": [
    {
     "data": {
      "image/png": "[encoded data removed]",
      "text/plain": [
       "<Figure size 432x288 with 1 Axes>"
      ]
     },
     "metadata": {
      "needs_background": "light"
     },
     "output_type": "display_data"
    }
   ],
   "source": [
    "plt.figure()\n",
    "plt.title(\"\", pad = 14, loc = \"center\")\n",
    "plt.plot(range(20,100), np.array(s_err[0])[20:],  label= \"s = 4000\", linestyle='-')\n",
    "plt.plot(range(20,100), np.array(s_err[1])[20:], label= \"s = 4500\", linestyle='--')\n",
    "plt.plot(range(20,100), np.array(s_err[2])[20:], label= \"s = 5000\", linestyle =  (0, (5, 10)))\n",
    "plt.plot(range(20,100), np.array(s_err[3])[20:], label= \"s = 5500\", linestyle='-.')\n",
    "plt.legend(title=\"Error with Iterations\")\n",
    "plt.xlabel(xlabel=\"Iterations\",labelpad = 0)\n",
    "plt.ylabel(ylabel=\"Error\",labelpad = 0)\n",
    "plt.savefig('Fig_1_Sparse_Gaussian.png', dpi=300,  bbox_inches=\"tight\")"
   ]
  },
  {
   "cell_type": "code",
   "execution_count": 437,
   "id": "469ebab2",
   "metadata": {},
   "outputs": [
    {
     "data": {
      "image/png": "[encoded data removed]",
      "text/plain": [
       "<Figure size 432x288 with 1 Axes>"
      ]
     },
     "metadata": {
      "needs_background": "light"
     },
     "output_type": "display_data"
    }
   ],
   "source": [
    "plt.figure()\n",
    "plt.title(\"\", pad = 14, loc = \"center\")\n",
    "plt.plot(range(40,100), np.array(s_err[0])[40:],  label= \"s = 4000\", linestyle='-')\n",
    "plt.plot(range(40,100), np.array(s_err[1])[40:], label= \"s = 4500\", linestyle='--')\n",
    "plt.plot(range(40,100), np.array(s_err[2])[40:], label= \"s = 5000\", linestyle =  (0, (5, 10)))\n",
    "plt.plot(range(40,100), np.array(s_err[3])[40:], label= \"s = 5500\", linestyle='-.')\n",
    "plt.legend(title=\"Error with Iterations\")\n",
    "plt.xlabel(xlabel=\"Iterations\",labelpad = 0)\n",
    "plt.ylabel(ylabel=\"Error\",labelpad = 0)\n",
    "plt.savefig('Fig_2_Sparse_Gaussian.png', dpi=300,  bbox_inches=\"tight\")"
   ]
  },
  {
   "cell_type": "code",
   "execution_count": 455,
   "id": "b0a2c6a3",
   "metadata": {},
   "outputs": [],
   "source": [
    "### Database Friendly Measurements \n",
    "## Fast Johnson Lindenstrauss Transform\n",
    "\n"
   ]
  },
  {
   "cell_type": "code",
   "execution_count": 456,
   "id": "ea53bebc",
   "metadata": {},
   "outputs": [],
   "source": [
    "### Database Friendly Measurements \n",
    "## Kronecker Fast Johnson Lindenstrauss Transform"
   ]
  },
  {
   "cell_type": "code",
   "execution_count": 105,
   "id": "4effbaad",
   "metadata": {},
   "outputs": [],
   "source": [
    "## Modewise without reshaping \n",
    "\n",
    "n = [19,19,19]\n",
    "target = [16,16,16] ### Mode 3 rank 3 tensors\n",
    "\n",
    "X = random_low_cp_rank(n,2)\n",
    "XX = tl.tensor(X)\n",
    "X_ravel = np.ravel(X)\n",
    "X_ravel = X_ravel/np.linalg.norm(X_ravel)\n",
    "XX = tl.tensor(X_ravel)\n",
    "\n",
    "## Generating Modewise Measurement operators\n",
    "\n",
    "AA_1 = np.random.normal(0.0,1.0,(target[0],n[0]))\n",
    "AA_2 = np.random.normal(0.0,1.0,(target[1],n[1]))\n",
    "AA_3 = np.random.normal(0.0,1.0,(target[2],n[2]))\n",
    "\n",
    "AA = np.sqrt(1/(16*16*16))*np.kron(np.kron(AA_1,AA_2),AA_3)\n",
    "yy = AA@X_ravel"
   ]
  },
  {
   "cell_type": "code",
   "execution_count": 106,
   "id": "3994a1dc",
   "metadata": {},
   "outputs": [
    {
     "data": {
      "text/plain": [
       "0.9342154597629936"
      ]
     },
     "execution_count": 106,
     "metadata": {},
     "output_type": "execute_result"
    }
   ],
   "source": [
    "np.linalg.norm(yy)"
   ]
  },
  {
   "cell_type": "code",
   "execution_count": 107,
   "id": "1c7d88fd",
   "metadata": {},
   "outputs": [
    {
     "name": "stdout",
     "output_type": "stream",
     "text": [
      "83.42251712402174\n"
     ]
    }
   ],
   "source": [
    "vXX = torch.randn(n)\n",
    "#print(np.linalg.norm(vectorize(vXX)- X_ravel))\n",
    "Diff = np.linalg.norm(vectorize(vXX)- X_ravel)/np.linalg.norm(X_ravel)\n",
    "print(Diff)"
   ]
  },
  {
   "cell_type": "code",
   "execution_count": 108,
   "id": "f197a788",
   "metadata": {},
   "outputs": [
    {
     "name": "stdout",
     "output_type": "stream",
     "text": [
      "Error after  0  iterations:  16.189678864290435\n",
      "Error after  100  iterations:  12.05197193856159\n",
      "Error after  200  iterations:  11.51665831300729\n",
      "Error after  300  iterations:  11.227858259480557\n",
      "Error after  400  iterations:  11.03560134274556\n",
      "Error after  500  iterations:  10.893872423629782\n",
      "Error after  600  iterations:  10.782831940329077\n",
      "Error after  700  iterations:  9.009611782422725\n",
      "Error after  800  iterations:  8.947285500020685\n",
      "Error after  900  iterations:  8.89364206128305\n",
      "Error after  1000  iterations:  8.84659183337443\n",
      "Error after  1100  iterations:  8.8048009401739\n",
      "Error after  1200  iterations:  8.767462456973405\n",
      "Error after  1300  iterations:  8.734354831302616\n",
      "Error after  1400  iterations:  8.706590793772518\n",
      "Error after  1500  iterations:  8.689818944396997\n",
      "Error after  1600  iterations:  8.687106768082051\n",
      "Error after  1700  iterations:  8.658213466953239\n",
      "Error after  1800  iterations:  8.612999851983838\n",
      "Error after  1900  iterations:  8.565671585279748\n",
      "Error after  2000  iterations:  8.52011921281261\n",
      "Error after  2100  iterations:  8.477380282331957\n",
      "Error after  2200  iterations:  8.437575367765968\n",
      "Error after  2300  iterations:  8.40055300493907\n",
      "Error after  2400  iterations:  8.366090178780818\n",
      "Error after  2500  iterations:  8.333959984144364\n",
      "Error after  2600  iterations:  8.303958634347019\n",
      "Error after  2700  iterations:  8.275898173171031\n",
      "Error after  2800  iterations:  8.249619262928274\n",
      "Error after  2900  iterations:  8.224979942969041\n",
      "Error after  3000  iterations:  8.201853658629291\n",
      "Error after  3100  iterations:  8.180124984626865\n",
      "Error after  3200  iterations:  8.159696683506159\n",
      "Error after  3300  iterations:  8.14047275188959\n",
      "Error after  3400  iterations:  8.122369940877224\n",
      "Error after  3500  iterations:  8.105317643242246\n",
      "Error after  3600  iterations:  8.089252460528236\n",
      "Error after  3700  iterations:  8.074126172483805\n",
      "Error after  3800  iterations:  8.059912724238607\n",
      "Error after  3900  iterations:  8.046594514182532\n",
      "Error after  4000  iterations:  8.03420858843363\n",
      "Error after  4100  iterations:  8.022823643309572\n",
      "Error after  4200  iterations:  8.01253913475182\n",
      "Error after  4300  iterations:  8.003511214732038\n",
      "Error after  4400  iterations:  7.995796836097366\n",
      "Error after  4500  iterations:  7.989050563038905\n",
      "Error after  4600  iterations:  7.982200865380555\n",
      "Error after  4700  iterations:  7.973333047049175\n",
      "Error after  4800  iterations:  7.960697742019884\n",
      "Error after  4900  iterations:  7.943994052631292\n",
      "Error after  5000  iterations:  7.924160775055974\n",
      "Error after  5100  iterations:  7.9024833983011895\n",
      "Error after  5200  iterations:  7.88007160777808\n",
      "Error after  5300  iterations:  7.857700274192188\n",
      "Error after  5400  iterations:  7.835901929648157\n",
      "Error after  5500  iterations:  7.815034423938996\n",
      "Error after  5600  iterations:  7.795322693495258\n",
      "Error after  5700  iterations:  7.776858204393217\n",
      "Error after  5800  iterations:  7.759727627317878\n",
      "Error after  5900  iterations:  7.743937924941779\n",
      "Error after  6000  iterations:  7.729449996505804\n",
      "Error after  6100  iterations:  7.71619802629459\n",
      "Error after  6200  iterations:  7.7041007502532075\n",
      "Error after  6300  iterations:  7.6930692601628765\n",
      "Error after  6400  iterations:  7.68301246078942\n",
      "Error after  6500  iterations:  7.673840620483926\n",
      "Error after  6600  iterations:  7.665442467401304\n",
      "Error after  6700  iterations:  7.657758169895134\n",
      "Error after  6800  iterations:  7.6507216212256175\n",
      "Error after  6900  iterations:  7.644266147783555\n",
      "Error after  7000  iterations:  7.638330511660329\n",
      "Error after  7100  iterations:  7.632859477197618\n",
      "Error after  7200  iterations:  7.627803638769783\n",
      "Error after  7300  iterations:  7.623119051969616\n",
      "Error after  7400  iterations:  7.618766792808567\n",
      "Error after  7500  iterations:  7.6147124938488515\n",
      "Error after  7600  iterations:  7.610925883346547\n",
      "Error after  7700  iterations:  7.607380231555334\n",
      "Error after  7800  iterations:  7.604035897502745\n",
      "Error after  7900  iterations:  7.600884877823238\n"
     ]
    }
   ],
   "source": [
    "## Understanding the importance of momenetum or step size???\n",
    "\n",
    "j = 1\n",
    "num_its = 8000\n",
    "Diff_1 = []\n",
    "\n",
    "while j < num_its and Diff > 0.001:\n",
    "    WW = np.array(vectorize(vXX)) + 0.1 * np.matmul(AA.T, (yy - np.matmul(AA, np.array(vectorize(vXX)))))\n",
    "    WW = torch.reshape(torch.tensor(WW), n)\n",
    "    vXX = low_rank_approx(WW,2)\n",
    "    Diff = np.linalg.norm(vectorize(vXX)- X_ravel)\n",
    "    if j%100 == 0:\n",
    "        print(\"Error after \",j, \" iterations: \", Diff )\n",
    "    j = j + 1\n",
    "    "
   ]
  },
  {
   "cell_type": "code",
   "execution_count": 18,
   "id": "3cf3aae5",
   "metadata": {},
   "outputs": [],
   "source": [
    "## Checking modewise measurements: Sanity Check\n",
    "\n",
    "X = random_low_cp_rank([4,4,4],3)\n",
    "XX = np.ravel(X)\n",
    "n_prod = 64\n",
    "\n",
    "AA_1 = np.random.normal(0.0,1.0,(3,4))\n",
    "AA_2 = np.random.normal(0.0,1.0,(3,4))\n",
    "AA_3 = np.random.normal(0.0,1.0,(3,4))\n",
    "\n",
    "AA = np.kron(np.kron(AA_1,AA_2),AA_3)\n",
    "np.reshape(AA@XX,[3,3,3])\n",
    "\n",
    "AA@X\n",
    "\n",
    "tl.tenalg.mode_dot(tl.tenalg.mode_dot(tl.tenalg.mode_dot(tl.tensor(X),AA_1,0),AA_2,1),AA_3,2)"
   ]
  },
  {
   "cell_type": "code",
   "execution_count": null,
   "id": "5fb0b667",
   "metadata": {},
   "outputs": [],
   "source": []
  }
 ],
 "metadata": {
  "kernelspec": {
   "display_name": "Python 3 (ipykernel)",
   "language": "python",
   "name": "python3"
  },
  "language_info": {
   "codemirror_mode": {
    "name": "ipython",
    "version": 3
   },
   "file_extension": ".py",
   "mimetype": "text/x-python",
   "name": "python",
   "nbconvert_exporter": "python",
   "pygments_lexer": "ipython3",
   "version": "3.9.7"
  }
 },
 "nbformat": 4,
 "nbformat_minor": 5
}
