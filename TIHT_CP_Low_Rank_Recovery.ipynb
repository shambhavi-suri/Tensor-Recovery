{
 "cells": [
  {
   "cell_type": "code",
   "execution_count": 81,
   "id": "d122f4ad",
   "metadata": {},
   "outputs": [],
   "source": [
    "#Adapted from code supplements from papers: \n",
    "#1.`Modewise Operators, the Tensor Restricted Isometry Property, and Low-Rank Tensor Recovery\" by Mark A. Iwen, Deanna Needell, Michael Perlmutter, Elizaveta Rebrova\n",
    "#\n",
    "#2. ``Iterative Hard Thresholding for Low CP-rank Tensor Models\" by R. Grotheer, S. Li, A. Ma, D. Needell, J. Qi\n",
    "#\n",
    "\n",
    "#Imports\n",
    "import torch\n",
    "import torch.nn.functional as F\n",
    "\n",
    "import tensorly as tl\n",
    "from tensorly import decomposition\n",
    "from tensorly import random\n",
    "from tensorly.decomposition import parafac\n",
    "\n",
    "import numpy as np\n",
    "from scipy.stats import ortho_group\n",
    "from scipy import linalg\n",
    "import pandas as pd\n",
    "\n",
    "import matplotlib.pyplot as plt\n",
    "from matplotlib.pyplot import imshow\n",
    "\n",
    "from PIL import Image\n",
    "\n",
    "from scipy.linalg import dft\n",
    "\n",
    "import timeit\n",
    "\n",
    "### TO D0: How to include if error??"
   ]
  },
  {
   "cell_type": "code",
   "execution_count": 82,
   "id": "ee9946fa",
   "metadata": {},
   "outputs": [],
   "source": [
    "#Returns low CP rank r tensor of dimension n\n",
    "\n",
    "def random_low_orth_rank(n,r): ### Orthogonal Rank r  ##Errors in this function too\n",
    "    #torch.manual_seed(0)\n",
    "    #np.random.seed(0)\n",
    "    L = []\n",
    "    C= ortho_group.rvs((n[0],r))\n",
    "    L = L + [C]\n",
    "    \n",
    "    for i in range(1,len(n)):\n",
    "        C=np.random.normal(0,1,size=(n[i],r))\n",
    "        L = L + [C]\n",
    "    \n",
    "    X = np.zeros(n)\n",
    "    for i in range(r):\n",
    "        U_r = np.array(L[0])[:,i]\n",
    "        for j in range(1, len(n)):\n",
    "            prod = np.array(L[j])[:,i]\n",
    "            U_r = np.multiply.outer(U_r,prod)\n",
    "        X = X + U_r\n",
    "        \n",
    "    C=tl.tensor(X) #Changing data frame to tensor\n",
    "    C.shape\n",
    "    return C\n",
    "\n",
    "def random_low_cp_rank(n,r):   #### CP Rank r\n",
    "    #torch.manual_seed(0)\n",
    "    #np.random.seed(0)\n",
    "    \n",
    "    L = []\n",
    "    for i in range(0,len(n)):\n",
    "        C = np.random.normal(0,1,size=(n[i],r))\n",
    "        L = L + [C]\n",
    "    \n",
    "    X = np.zeros(n)\n",
    "    for i in range(r):\n",
    "        U_r = np.array(L[0])[:,i]\n",
    "        for j in range(1, len(n)):\n",
    "            prod = np.array(L[j])[:,i]\n",
    "            U_r = np.multiply.outer(U_r,prod)\n",
    "        X = X + U_r\n",
    "        \n",
    "    C=tl.tensor(X) #Changing data frame to tensor\n",
    "    C.shape\n",
    "    return C\n",
    "\n",
    "\n",
    "### Some errors in this function, why?\n",
    "def random_low_cp_rank_1(n,r): ### Issues with printing; also, source of randomness?\n",
    "    tensor_1 = tl.random.random_cp(shape=n, rank=r)\n",
    "    return tensor_1"
   ]
  },
  {
   "cell_type": "code",
   "execution_count": 83,
   "id": "ec20d25a",
   "metadata": {},
   "outputs": [],
   "source": [
    "def vectorize_1(X): ##Vectorisation for tensors\n",
    "    x=X.numpy()\n",
    "    x=x.reshape(-1)\n",
    "    return x\n",
    "\n",
    "def vectorize(X):  ##Vecorisation for numpy arrays\n",
    "    x=X\n",
    "    x=x.reshape(-1)\n",
    "    return x"
   ]
  },
  {
   "cell_type": "code",
   "execution_count": 84,
   "id": "d336163f",
   "metadata": {},
   "outputs": [],
   "source": [
    "#Low rank approximation via tensorly Cp decomposition is used for thresholding\n",
    "\n",
    "def low_rank_approx(tensor,r):    \n",
    "    #torch.manual_seed(0)\n",
    "    factors = parafac(tl.tensor(tensor), rank=r)\n",
    "    answer = tl.cp_to_tensor(factors)\n",
    "    return answer"
   ]
  },
  {
   "cell_type": "code",
   "execution_count": 120,
   "id": "3257d835",
   "metadata": {},
   "outputs": [],
   "source": [
    "#Measurement operators \n",
    "\n",
    "#SJLT\n",
    "def SJLT(n, m, s, X):\n",
    "    \n",
    "    # It seems that in numpy, the function np.random.choice(m, s, replace=False) is the only one to perform uniform sampling without replacement. Unfortunately, this function does not support vectorization, and hence is highly inefficient. Hence in our implementation of SJLT, to speed-up SJLT, the function of sampling without replacement is implemented based on an early stopping of Fisher-Yates shuffle.\n",
    "    d = X.shape[1]; random_signs = np.zeros((n, s))\n",
    "    for i in range(n): \n",
    "        for j in range(s): \n",
    "            random_signs[i, j] = np.random.randint(2) * 2 - 1\n",
    "    out = np.zeros((m, X.shape[1]))\n",
    "    tmp_rands = np.random.rand(s * n)\n",
    "    rand_numbers = np.zeros((s, n), dtype = np.int64)\n",
    "    tmp_m_sequence = np.arange(m, dtype = np.int64)\n",
    "    for j in range(n):\n",
    "        for k in range(s):\n",
    "            tmp_index = int(tmp_rands[ j * s + k ] * (m-k))\n",
    "            tmp = tmp_m_sequence[tmp_index + k]\n",
    "            tmp_m_sequence[tmp_index + k] = tmp_m_sequence[k]\n",
    "            tmp_m_sequence[k] = tmp\n",
    "            rand_numbers[k,j] = tmp\n",
    "    \n",
    "    for j in range(n): \n",
    "        for k in range(s): out[rand_numbers[k, j], :] += random_signs[j,k] * X[j, :]\n",
    "    return out / math.sqrt(s)\n",
    "\n",
    "\n",
    "#Gaussian\n",
    "def create_gaussian_meas(dim, n):\n",
    "    #np.random.seed(0)\n",
    "    return np.sqrt(1/dim)*np.random.normal(0.0, 1.0, [dim, n])\n",
    "\n",
    "def create_khatri_rao_gaussian(dim,n):\n",
    "    a = np.random.normal(0.0, 1.0, [n[0], dim])\n",
    "    \n",
    "    matrix = a\n",
    "    \n",
    "    for j in range(1,len(n)):\n",
    "        a = np.random.normal(0.0, 1.0, [n[j], dim])\n",
    "        matrix = linalg.khatri_rao(matrix, a)\n",
    "    \n",
    "    return matrix\n",
    "\n",
    "#SORS\n",
    "def create_SORS_meas(dim,n):\n",
    "    if n<dim:\n",
    "        raise ValueError(\"dim is greater than n, matrix needs to be tall and skinny\")\n",
    "    \n",
    "    n_prod = 1\n",
    "    for i in n:\n",
    "        n_prod = n_prod*i   \n",
    "        \n",
    "    #np.random.seed(0)\n",
    "    m=dft(n_prod)/np.sqrt(n_prod)\n",
    "    vec=np.random.choice([-1,1],n_prod)\n",
    "    m = np.matmul(m, np.diag(vec))\n",
    "    m = np.sqrt(n_prod/dim)*m[:int(dim), :]\n",
    "    return m  "
   ]
  },
  {
   "cell_type": "code",
   "execution_count": 87,
   "id": "8f8d138e",
   "metadata": {},
   "outputs": [
    {
     "data": {
      "text/plain": [
       "(18, 10)"
      ]
     },
     "execution_count": 87,
     "metadata": {},
     "output_type": "execute_result"
    }
   ],
   "source": [
    "np.shape(create_khatri_rao_gaussian(10,(3,3,2)))"
   ]
  },
  {
   "cell_type": "code",
   "execution_count": 88,
   "id": "af9e083e",
   "metadata": {},
   "outputs": [],
   "source": [
    "##Generate Random Tensors\n",
    "def generate_cp_tensors(n,r,num_samples):\n",
    "\n",
    "    #torch.manual_seed(0)\n",
    "    X= []\n",
    "    for j in range(num_samples):\n",
    "        X_i= torch.tensor(random_low_cp_rank(n,r), dtype=torch.float64)\n",
    "        X.append(X_i)\n",
    "        \n",
    "    return X\n",
    "\n",
    "##Generate Random Tensors orthogonal rank\n",
    "def generate_orth_tensors(n,r,num_samples):\n",
    "\n",
    "    #torch.manual_seed(0)\n",
    "    X= []\n",
    "    for j in range(num_samples):\n",
    "        X_i= torch.tensor(random_low_orth_rank(n,r), dtype=torch.float64)\n",
    "        X.append(X_i)\n",
    "        \n",
    "    return X"
   ]
  },
  {
   "cell_type": "code",
   "execution_count": 89,
   "id": "41ce632d",
   "metadata": {},
   "outputs": [],
   "source": [
    "#Low rank approximation via tensorly Cp decomposition is used for thresholding\n",
    "\n",
    "def low_rank_approx(tensor,r):    \n",
    "    #torch.manual_seed(0)\n",
    "    factors = parafac(tl.tensor(tensor), rank=r)\n",
    "    answer = tl.cp_to_tensor(factors)\n",
    "    return answer"
   ]
  },
  {
   "cell_type": "code",
   "execution_count": 90,
   "id": "8d8ef2a5",
   "metadata": {},
   "outputs": [],
   "source": [
    "## TIHT for one sample!\n",
    "\n",
    "def CP_TIHT_1(X, n, AA, r, yy, mu = 1, acc = 0.001, num_its = 1000):\n",
    "    \n",
    "    vXX = torch.randn(n)\n",
    "    j = 1\n",
    "    try:\n",
    "    \n",
    "        while np.linalg.norm(vectorize(vXX)- vectorize_1(X)) > acc and j < num_its:\n",
    "            WW = np.array(vectorize(vXX)) + mu * np.matmul(AA.T, (yy - np.matmul(AA, np.array(vectorize(vXX)))))\n",
    "            WW = torch.reshape(torch.tensor(WW), n)\n",
    "            vXX = low_rank_approx(WW,r)\n",
    "            #print(np.linalg.norm(vectorize(vXX)- vectorize_1(X)),j)\n",
    "            j = j+1 \n",
    "    \n",
    "    except np.linalg.LinAlgError as err:\n",
    "        j = num_its\n",
    "    \n",
    "    #print(np.linalg.norm(vectorize(vXX)- vectorize_1(X)))\n",
    "    return np.linalg.norm(vectorize(vXX)- vectorize_1(X)), j, vXX"
   ]
  },
  {
   "cell_type": "code",
   "execution_count": 91,
   "id": "a0df6490",
   "metadata": {},
   "outputs": [],
   "source": [
    "## Testing Function\n",
    "X = generate_cp_tensors((10,11,10),2,1)\n",
    "n = [10,11,10]\n",
    "n_prod = 10*11*10\n",
    "X= X[0]"
   ]
  },
  {
   "cell_type": "code",
   "execution_count": 92,
   "id": "414d3859",
   "metadata": {},
   "outputs": [],
   "source": [
    "mu = 1\n",
    "dim = 500\n",
    "AA = np.sqrt(1/dim)*np.random.normal(0.0, 1.0, [dim, n_prod])\n",
    "yy = np.matmul(AA, np.array(vectorize(X)))"
   ]
  },
  {
   "cell_type": "code",
   "execution_count": 93,
   "id": "f3ccc627",
   "metadata": {},
   "outputs": [],
   "source": [
    "## Question: How to deal with errors, add 0 to code?\n",
    "\n",
    "x, y, vXX = CP_TIHT_1(X, n, AA, 2, yy, mu = 1, acc = 0.001, num_its = 1000)"
   ]
  },
  {
   "cell_type": "code",
   "execution_count": 94,
   "id": "f705963e",
   "metadata": {},
   "outputs": [
    {
     "name": "stdout",
     "output_type": "stream",
     "text": [
      "Iterations : 26  Frob norm : 0.000884017401804273\n"
     ]
    }
   ],
   "source": [
    "print(\"Iterations :\", y, \" Frob norm :\", x)"
   ]
  },
  {
   "cell_type": "code",
   "execution_count": 14,
   "id": "f3a9702d",
   "metadata": {},
   "outputs": [],
   "source": [
    "### TIHT for more samples\n",
    "## Input:\n",
    "## Output: \n",
    "\n",
    "def CP_TIHT(n,r,dim,num_samples=100,mu=1,num_its=1000,accuracy=.001, meas = \"Gaussian\"):\n",
    "\n",
    "    #torch.manual_seed(0)\n",
    "\n",
    "    X = generate_cp_tensors(n,r,num_samples) ## generating num_samples tensors\n",
    "    \n",
    "    n_prod = 1\n",
    "    for i in n:\n",
    "        n_prod = n_prod*i \n",
    "        \n",
    "    AA = create_gaussian_meas(dim,n_prod)\n",
    "    \n",
    "    good_runs = 0\n",
    "    total_time = 0\n",
    "    total_iters = 0\n",
    "    \n",
    "    iterations = []\n",
    "    norm = []\n",
    "\n",
    "    vXX = torch.randn(n) ##Initialisation\n",
    "\n",
    "    # Run recovery algorithm\n",
    "    for j in range(num_samples):\n",
    "        #print(j)\n",
    "        \n",
    "        yy = np.matmul(AA, np.array(vectorize(X[j])))\n",
    "        start = timeit.default_timer()\n",
    "        norm_1, its_1, test = CP_TIHT_1(X[j], n, AA, r, yy, mu, accuracy, num_its)\n",
    "        #print(norm_1)\n",
    "        stop = timeit.default_timer()\n",
    "    \n",
    "        #plt.plot(range(len(Losses3[j])), Losses3[j])   \n",
    "        if its_1 < num_its:\n",
    "            good_runs += 1\n",
    "            total_time += stop - start\n",
    "            total_iters += its_1\n",
    "            #print(\"Converged!\")\n",
    "            #print('Number of iterations: ', i)\n",
    "            \n",
    "        iterations = iterations + [its_1]\n",
    "        norm = norm + [norm_1]\n",
    "    '''if good_runs != 0:\n",
    "        print('\\n')\n",
    "        print('Percentage of converged runs:', 100*good_runs/num_samples)\n",
    "        print('Average recovery time: ', total_time/good_runs) \n",
    "        print('Average number of iterations: ', total_iters/good_runs) \n",
    "    else:\n",
    "        print(\"Never converged :(\")'''\n",
    "        \n",
    "    if good_runs != 0:\n",
    "        Convergence_percent=100*good_runs/num_samples\n",
    "        Average_recovery_time= total_time/good_runs\n",
    "        Average_number_of_iterations= total_iters/good_runs \n",
    "   \n",
    "    else:\n",
    "        Convergence_percent=0\n",
    "        Average_recovery_time= np.inf\n",
    "        Average_number_of_iterations= num_its\n",
    "   \n",
    "    return Convergence_percent, Average_recovery_time, Average_number_of_iterations, norm, iterations"
   ]
  },
  {
   "cell_type": "code",
   "execution_count": 27,
   "id": "328bc9c2",
   "metadata": {},
   "outputs": [],
   "source": [
    "cp, rt, ai, norm, its = CP_TIHT(n,2,400,5,mu=1,num_its=1000,accuracy=.001)"
   ]
  },
  {
   "cell_type": "code",
   "execution_count": 28,
   "id": "2282e2ff",
   "metadata": {},
   "outputs": [
    {
     "data": {
      "text/plain": [
       "100.0"
      ]
     },
     "execution_count": 28,
     "metadata": {},
     "output_type": "execute_result"
    }
   ],
   "source": [
    "## Testing Function\n",
    "## cp"
   ]
  },
  {
   "cell_type": "code",
   "execution_count": 29,
   "id": "eaa20a3b",
   "metadata": {},
   "outputs": [],
   "source": [
    "######## Gaussian Measurements #######\n",
    "######## Fixed dimensions (10,10,10) changing rank #################"
   ]
  },
  {
   "cell_type": "code",
   "execution_count": 30,
   "id": "90f2a2ea",
   "metadata": {},
   "outputs": [
    {
     "name": "stdout",
     "output_type": "stream",
     "text": [
      "Dimension : 800  Convergence percent : 100.0  Avg_its : 16.51\n",
      "Dimension : 750  Convergence percent : 100.0  Avg_its : 17.5\n",
      "Dimension : 700  Convergence percent : 100.0  Avg_its : 18.58\n",
      "Dimension : 650  Convergence percent : 100.0  Avg_its : 20.51\n",
      "Dimension : 600  Convergence percent : 100.0  Avg_its : 21.56\n",
      "Dimension : 550  Convergence percent : 100.0  Avg_its : 24.87\n",
      "Dimension : 500  Convergence percent : 100.0  Avg_its : 28.69\n",
      "Dimension : 450  Convergence percent : 100.0  Avg_its : 36.4\n",
      "Dimension : 400  Convergence percent : 100.0  Avg_its : 54.3\n",
      "Dimension : 350  Convergence percent : 88.0  Avg_its : 119.25\n",
      "Dimension : 300  Convergence percent : 43.0  Avg_its : 198.6046511627907\n"
     ]
    }
   ],
   "source": [
    "dim = [800,750,700,650,600,550,500,450,400,350,300]\n",
    "conv_per = []\n",
    "avg_its = []\n",
    "\n",
    "for i in range(len(dim)):\n",
    "    cp, rt, ai, norm, its = CP_TIHT((10,10,10),2,dim[i],100,mu=1,num_its=1000,accuracy=.001)\n",
    "    print(\"Dimension :\", dim[i], \" Convergence percent :\", cp, \" Avg_its :\", ai)\n",
    "    conv_per = conv_per + [cp]\n",
    "    avg_its = avg_its + [ai]\n",
    "    "
   ]
  },
  {
   "cell_type": "code",
   "execution_count": 63,
   "id": "b472d8c5",
   "metadata": {},
   "outputs": [
    {
     "name": "stdout",
     "output_type": "stream",
     "text": [
      "Dimension : 800  Convergence percent : 100.0  Avg_its : 28.29\n",
      "Dimension : 750  Convergence percent : 100.0  Avg_its : 29.87\n",
      "Dimension : 700  Convergence percent : 100.0  Avg_its : 35.14\n",
      "Dimension : 650  Convergence percent : 100.0  Avg_its : 43.38\n",
      "Dimension : 600  Convergence percent : 99.0  Avg_its : 60.313131313131315\n",
      "Dimension : 550  Convergence percent : 99.0  Avg_its : 84.03030303030303\n",
      "Dimension : 500  Convergence percent : 89.0  Avg_its : 171.96629213483146\n"
     ]
    }
   ],
   "source": [
    "dim = [800,750,700,650,600,550,500]\n",
    "conv_per = []\n",
    "avg_its = []\n",
    "\n",
    "for i in range(len(dim)):\n",
    "    cp, rt, ai, norm, its = CP_TIHT((10,10,10),3,dim[i],100,mu=1,num_its=1000,accuracy=.001)\n",
    "    print(\"Dimension :\", dim[i], \" Convergence percent :\", cp, \" Avg_its :\", ai)\n",
    "    conv_per = conv_per + [cp]\n",
    "    avg_its = avg_its + [ai]"
   ]
  },
  {
   "cell_type": "code",
   "execution_count": 65,
   "id": "caa66433",
   "metadata": {},
   "outputs": [
    {
     "name": "stdout",
     "output_type": "stream",
     "text": [
      "Dimension : 800  Convergence percent : 100.0  Avg_its : 58.19\n",
      "Dimension : 750  Convergence percent : 99.0  Avg_its : 77.36363636363636\n",
      "Dimension : 700  Convergence percent : 92.0  Avg_its : 155.95652173913044\n",
      "Dimension : 650  Convergence percent : 76.0  Avg_its : 233.22368421052633\n"
     ]
    }
   ],
   "source": [
    "dim = [800,750,700,650]\n",
    "conv_per = []\n",
    "avg_its = []\n",
    "\n",
    "for i in range(len(dim)):\n",
    "    cp, rt, ai, norm, its = CP_TIHT((10,10,10),4,dim[i],100,mu=1,num_its=1000,accuracy=.001)\n",
    "    print(\"Dimension :\", dim[i], \" Convergence percent :\", cp, \" Avg_its :\", ai)\n",
    "    conv_per = conv_per + [cp]\n",
    "    avg_its = avg_its + [ai]"
   ]
  },
  {
   "cell_type": "code",
   "execution_count": null,
   "id": "8cd89487",
   "metadata": {},
   "outputs": [],
   "source": [
    "dim = [800,750,700,650]\n",
    "conv_per = []\n",
    "avg_its = []\n",
    "\n",
    "for i in range(len(dim)):\n",
    "    cp, rt, ai, norm, its = CP_TIHT((10,10,10),5,dim[i],100,mu=1,num_its=1000,accuracy=.001)\n",
    "    print(\"Dimension :\", dim[i], \" Convergence percent :\", cp, \" Avg_its :\", ai)\n",
    "    conv_per = conv_per + [cp]\n",
    "    avg_its = avg_its + [ai]"
   ]
  },
  {
   "cell_type": "code",
   "execution_count": 44,
   "id": "f1755c67",
   "metadata": {},
   "outputs": [],
   "source": [
    "########## Measuring average error across iterations for TIHT across rank##################\n",
    "\n",
    "def CP_TIHT_error_1(X, n, AA, r, yy,  num_its, mu = 1):\n",
    "    \n",
    "    vXX = torch.randn(n)\n",
    "    error = []\n",
    "    j = 1\n",
    "    for i in range(len(num_its)):\n",
    "        try:\n",
    "    \n",
    "            while j < num_its[i]:\n",
    "                WW = np.array(vectorize(vXX)) + mu * np.matmul(AA.T, (yy - np.matmul(AA, np.array(vectorize(vXX)))))\n",
    "                WW = torch.reshape(torch.tensor(WW), n)\n",
    "                vXX = low_rank_approx(WW,r)\n",
    "                #print(np.linalg.norm(vectorize(vXX)- vectorize_1(X)),j)\n",
    "                j = j+1 \n",
    "    \n",
    "        except np.linalg.LinAlgError as err:\n",
    "            j = num_its\n",
    "        error = error + [np.linalg.norm(vectorize(vXX)- vectorize_1(X))/np.linalg.norm(vectorize_1(X))]\n",
    "        \n",
    "    return error\n",
    "\n",
    "### TIHT for more samples\n",
    "## Input:\n",
    "## Output: \n",
    "\n",
    "\n",
    "def CP_TIHT_error(n,r,dim,num_samples=100,mu=1,num_its=[20,60,120,200], meas = \"Gaussian\"):\n",
    "\n",
    "    #torch.manual_seed(0)\n",
    "\n",
    "    X = generate_cp_tensors(n,r,num_samples) ## generating num_samples tensors\n",
    "    \n",
    "    n_prod = 1\n",
    "    for i in n:\n",
    "        n_prod = n_prod*i \n",
    "        \n",
    "    AA = create_gaussian_meas(dim,n_prod)\n",
    "    \n",
    "    cumulative_error = np.zeros(len(num_its))\n",
    "    \n",
    "\n",
    "    # Run recovery algorithm\n",
    "    for j in range(num_samples):\n",
    "        \n",
    "        yy = np.matmul(AA, np.array(vectorize(X[j])))\n",
    "        start = timeit.default_timer()\n",
    "        err_j = CP_TIHT_error_1(X[j], n, AA, r, yy, num_its, mu)\n",
    "\n",
    "        for k in range(len(num_its)):\n",
    "            cumulative_error[k] += err_j[k]\n",
    "    \n",
    " \n",
    "    return cumulative_error\n"
   ]
  },
  {
   "cell_type": "code",
   "execution_count": 57,
   "id": "318c5d9c",
   "metadata": {},
   "outputs": [
    {
     "name": "stdout",
     "output_type": "stream",
     "text": [
      "800\n",
      "700\n",
      "600\n",
      "500\n",
      "400\n"
     ]
    }
   ],
   "source": [
    "dim_error = []\n",
    "for i in [800,700,600,500,400]:\n",
    "    dim_error = dim_error + [CP_TIHT_error((10,10,10),3,i,10,mu=1)/10]\n",
    "    print(i)"
   ]
  },
  {
   "cell_type": "code",
   "execution_count": 58,
   "id": "8f346fb5",
   "metadata": {},
   "outputs": [
    {
     "data": {
      "text/plain": [
       "[array([2.46177102e-04, 3.76247800e-07, 1.23839785e-08, 1.21975339e-08,\n",
       "        1.24928665e-08, 1.04873670e-08, 8.48554913e-09, 1.03464644e-08,\n",
       "        1.06059595e-08]),\n",
       " array([1.21952906e-03, 1.57957151e-05, 2.91154322e-07, 1.49414732e-08,\n",
       "        9.86503613e-09, 9.64600333e-09, 7.64252551e-09, 9.44060689e-09,\n",
       "        8.20087358e-09]),\n",
       " array([6.77528285e-03, 4.24841701e-04, 3.14062661e-05, 2.50342636e-06,\n",
       "        2.14655639e-07, 2.86923488e-08, 1.21791166e-08, 1.09589762e-08,\n",
       "        1.15866463e-08]),\n",
       " array([1.01918166e-01, 1.01953318e-01, 1.50624969e-01, 4.06761777e-01,\n",
       "        3.34662772e+00, 5.38772823e+01, 1.19790344e+03, 1.30543133e+07,\n",
       "        2.11883191e+22]),\n",
       " array([6.74843330e+00, 4.03534092e+03, 6.19278626e+06, 1.92263081e+10,\n",
       "        9.96805465e+13, 6.37743306e+17, 4.34047920e+21, 1.45527022e+33,\n",
       "        3.91899177e+71])]"
      ]
     },
     "execution_count": 58,
     "metadata": {},
     "output_type": "execute_result"
    }
   ],
   "source": [
    "dim_error"
   ]
  },
  {
   "cell_type": "code",
   "execution_count": 60,
   "id": "59fceb46",
   "metadata": {},
   "outputs": [
    {
     "name": "stdout",
     "output_type": "stream",
     "text": [
      "800\n",
      "700\n",
      "600\n",
      "500\n",
      "400\n"
     ]
    }
   ],
   "source": [
    "dim_error = []\n",
    "for i in [800,700,600,500,400]:\n",
    "    dim_error = dim_error + [CP_TIHT_error((10,10,10),2,i,10,mu=1)/10]\n",
    "    print(i)"
   ]
  },
  {
   "cell_type": "code",
   "execution_count": 61,
   "id": "d03519b3",
   "metadata": {
    "scrolled": true
   },
   "outputs": [
    {
     "data": {
      "text/plain": [
       "[array([6.53808331e-06, 4.94166806e-09, 4.44558610e-09, 4.08884529e-09,\n",
       "        6.05753140e-09, 4.91592787e-09, 5.02737430e-09, 4.07994714e-09,\n",
       "        5.63713211e-09]),\n",
       " array([1.54774550e-05, 1.31048029e-08, 7.61348777e-09, 7.07431860e-09,\n",
       "        1.01060094e-08, 1.05073100e-08, 8.45187105e-09, 9.51460336e-09,\n",
       "        1.01391647e-08]),\n",
       " array([9.05278502e-05, 9.93123480e-08, 5.87784248e-09, 3.87621477e-09,\n",
       "        5.10573130e-09, 4.73308406e-09, 4.60578606e-09, 3.01166894e-09,\n",
       "        4.66231412e-09]),\n",
       " array([1.06641061e-03, 1.90698786e-05, 4.01144313e-07, 1.51771219e-08,\n",
       "        8.81657399e-09, 7.59918800e-09, 7.60798851e-09, 7.63620599e-09,\n",
       "        7.49677474e-09]),\n",
       " array([8.49714164e-03, 1.37139779e-03, 2.55758654e-04, 4.88375246e-05,\n",
       "        9.41749051e-06, 1.83228866e-06, 3.61711141e-07, 7.21074298e-09,\n",
       "        3.93179578e-09])]"
      ]
     },
     "execution_count": 61,
     "metadata": {},
     "output_type": "execute_result"
    }
   ],
   "source": [
    "dim_error"
   ]
  },
  {
   "cell_type": "code",
   "execution_count": 147,
   "id": "8952b4c7",
   "metadata": {},
   "outputs": [],
   "source": [
    "######## Gaussian Measurements #######\n",
    "######## Fixed Rank changing Dimension n #################\n",
    "\n",
    "import math\n",
    "percent = [0.9,0.85,0.8,0.75,0.7,0.65,0.60]"
   ]
  },
  {
   "cell_type": "code",
   "execution_count": 156,
   "id": "eaa9765e",
   "metadata": {},
   "outputs": [
    {
     "name": "stdout",
     "output_type": "stream",
     "text": [
      "Dimension : 800  Convergence percent : 100.0  Avg_its : 26.88\n",
      "Dimension : 600  Convergence percent : 100.0  Avg_its : 57.04\n",
      "Dimension : 400  Convergence percent : 30.0  Avg_its : 924.1333333333333\n"
     ]
    },
    {
     "ename": "KeyboardInterrupt",
     "evalue": "",
     "output_type": "error",
     "traceback": [
      "\u001b[0;31m---------------------------------------------------------------------------\u001b[0m",
      "\u001b[0;31mKeyboardInterrupt\u001b[0m                         Traceback (most recent call last)",
      "\u001b[0;32m/var/folders/1m/d1lrmr2n7gvdmlys8cnm3nt40000gn/T/ipykernel_19645/740210690.py\u001b[0m in \u001b[0;36m<module>\u001b[0;34m\u001b[0m\n\u001b[1;32m     15\u001b[0m \u001b[0;34m\u001b[0m\u001b[0m\n\u001b[1;32m     16\u001b[0m \u001b[0;32mfor\u001b[0m \u001b[0mi\u001b[0m \u001b[0;32min\u001b[0m \u001b[0mrange\u001b[0m\u001b[0;34m(\u001b[0m\u001b[0mlen\u001b[0m\u001b[0;34m(\u001b[0m\u001b[0mdim\u001b[0m\u001b[0;34m)\u001b[0m\u001b[0;34m)\u001b[0m\u001b[0;34m:\u001b[0m\u001b[0;34m\u001b[0m\u001b[0;34m\u001b[0m\u001b[0m\n\u001b[0;32m---> 17\u001b[0;31m     \u001b[0mcp\u001b[0m\u001b[0;34m,\u001b[0m \u001b[0mrt\u001b[0m\u001b[0;34m,\u001b[0m \u001b[0mai\u001b[0m\u001b[0;34m,\u001b[0m \u001b[0mnorm\u001b[0m\u001b[0;34m,\u001b[0m \u001b[0mits\u001b[0m \u001b[0;34m=\u001b[0m \u001b[0mCP_TIHT\u001b[0m\u001b[0;34m(\u001b[0m\u001b[0mn\u001b[0m\u001b[0;34m,\u001b[0m\u001b[0;36m3\u001b[0m\u001b[0;34m,\u001b[0m\u001b[0mdim\u001b[0m\u001b[0;34m[\u001b[0m\u001b[0mi\u001b[0m\u001b[0;34m]\u001b[0m\u001b[0;34m,\u001b[0m\u001b[0;36m50\u001b[0m\u001b[0;34m,\u001b[0m\u001b[0mmu\u001b[0m\u001b[0;34m=\u001b[0m\u001b[0;36m1\u001b[0m\u001b[0;34m,\u001b[0m\u001b[0mnum_its\u001b[0m\u001b[0;34m=\u001b[0m\u001b[0;36m1000\u001b[0m\u001b[0;34m,\u001b[0m\u001b[0maccuracy\u001b[0m\u001b[0;34m=\u001b[0m\u001b[0;36m.001\u001b[0m\u001b[0;34m)\u001b[0m\u001b[0;34m\u001b[0m\u001b[0;34m\u001b[0m\u001b[0m\n\u001b[0m\u001b[1;32m     18\u001b[0m     \u001b[0mprint\u001b[0m\u001b[0;34m(\u001b[0m\u001b[0;34m\"Dimension :\"\u001b[0m\u001b[0;34m,\u001b[0m \u001b[0mdim\u001b[0m\u001b[0;34m[\u001b[0m\u001b[0mi\u001b[0m\u001b[0;34m]\u001b[0m\u001b[0;34m,\u001b[0m \u001b[0;34m\" Convergence percent :\"\u001b[0m\u001b[0;34m,\u001b[0m \u001b[0mcp\u001b[0m\u001b[0;34m,\u001b[0m \u001b[0;34m\" Avg_its :\"\u001b[0m\u001b[0;34m,\u001b[0m \u001b[0mai\u001b[0m\u001b[0;34m)\u001b[0m\u001b[0;34m\u001b[0m\u001b[0;34m\u001b[0m\u001b[0m\n\u001b[1;32m     19\u001b[0m     \u001b[0mconv_per\u001b[0m \u001b[0;34m=\u001b[0m \u001b[0mconv_per\u001b[0m \u001b[0;34m+\u001b[0m \u001b[0;34m[\u001b[0m\u001b[0mcp\u001b[0m\u001b[0;34m]\u001b[0m\u001b[0;34m\u001b[0m\u001b[0;34m\u001b[0m\u001b[0m\n",
      "\u001b[0;32m/var/folders/1m/d1lrmr2n7gvdmlys8cnm3nt40000gn/T/ipykernel_19645/1035764710.py\u001b[0m in \u001b[0;36mCP_TIHT\u001b[0;34m(n, r, dim, num_samples, mu, num_its, accuracy, meas)\u001b[0m\n\u001b[1;32m     30\u001b[0m         \u001b[0myy\u001b[0m \u001b[0;34m=\u001b[0m \u001b[0mnp\u001b[0m\u001b[0;34m.\u001b[0m\u001b[0mmatmul\u001b[0m\u001b[0;34m(\u001b[0m\u001b[0mAA\u001b[0m\u001b[0;34m,\u001b[0m \u001b[0mnp\u001b[0m\u001b[0;34m.\u001b[0m\u001b[0marray\u001b[0m\u001b[0;34m(\u001b[0m\u001b[0mvectorize\u001b[0m\u001b[0;34m(\u001b[0m\u001b[0mX\u001b[0m\u001b[0;34m[\u001b[0m\u001b[0mj\u001b[0m\u001b[0;34m]\u001b[0m\u001b[0;34m)\u001b[0m\u001b[0;34m)\u001b[0m\u001b[0;34m)\u001b[0m\u001b[0;34m\u001b[0m\u001b[0;34m\u001b[0m\u001b[0m\n\u001b[1;32m     31\u001b[0m         \u001b[0mstart\u001b[0m \u001b[0;34m=\u001b[0m \u001b[0mtimeit\u001b[0m\u001b[0;34m.\u001b[0m\u001b[0mdefault_timer\u001b[0m\u001b[0;34m(\u001b[0m\u001b[0;34m)\u001b[0m\u001b[0;34m\u001b[0m\u001b[0;34m\u001b[0m\u001b[0m\n\u001b[0;32m---> 32\u001b[0;31m         \u001b[0mnorm_1\u001b[0m\u001b[0;34m,\u001b[0m \u001b[0mits_1\u001b[0m\u001b[0;34m,\u001b[0m \u001b[0mtest\u001b[0m \u001b[0;34m=\u001b[0m \u001b[0mCP_TIHT_1\u001b[0m\u001b[0;34m(\u001b[0m\u001b[0mX\u001b[0m\u001b[0;34m[\u001b[0m\u001b[0mj\u001b[0m\u001b[0;34m]\u001b[0m\u001b[0;34m,\u001b[0m \u001b[0mn\u001b[0m\u001b[0;34m,\u001b[0m \u001b[0mAA\u001b[0m\u001b[0;34m,\u001b[0m \u001b[0mr\u001b[0m\u001b[0;34m,\u001b[0m \u001b[0myy\u001b[0m\u001b[0;34m,\u001b[0m \u001b[0mmu\u001b[0m\u001b[0;34m,\u001b[0m \u001b[0maccuracy\u001b[0m\u001b[0;34m,\u001b[0m \u001b[0mnum_its\u001b[0m\u001b[0;34m)\u001b[0m\u001b[0;34m\u001b[0m\u001b[0;34m\u001b[0m\u001b[0m\n\u001b[0m\u001b[1;32m     33\u001b[0m         \u001b[0;31m#print(norm_1)\u001b[0m\u001b[0;34m\u001b[0m\u001b[0;34m\u001b[0m\u001b[0m\n\u001b[1;32m     34\u001b[0m         \u001b[0mstop\u001b[0m \u001b[0;34m=\u001b[0m \u001b[0mtimeit\u001b[0m\u001b[0;34m.\u001b[0m\u001b[0mdefault_timer\u001b[0m\u001b[0;34m(\u001b[0m\u001b[0;34m)\u001b[0m\u001b[0;34m\u001b[0m\u001b[0;34m\u001b[0m\u001b[0m\n",
      "\u001b[0;32m/var/folders/1m/d1lrmr2n7gvdmlys8cnm3nt40000gn/T/ipykernel_19645/2507455983.py\u001b[0m in \u001b[0;36mCP_TIHT_1\u001b[0;34m(X, n, AA, r, yy, mu, acc, num_its)\u001b[0m\n\u001b[1;32m     10\u001b[0m             \u001b[0mWW\u001b[0m \u001b[0;34m=\u001b[0m \u001b[0mnp\u001b[0m\u001b[0;34m.\u001b[0m\u001b[0marray\u001b[0m\u001b[0;34m(\u001b[0m\u001b[0mvectorize\u001b[0m\u001b[0;34m(\u001b[0m\u001b[0mvXX\u001b[0m\u001b[0;34m)\u001b[0m\u001b[0;34m)\u001b[0m \u001b[0;34m+\u001b[0m \u001b[0mmu\u001b[0m \u001b[0;34m*\u001b[0m \u001b[0mnp\u001b[0m\u001b[0;34m.\u001b[0m\u001b[0mmatmul\u001b[0m\u001b[0;34m(\u001b[0m\u001b[0mAA\u001b[0m\u001b[0;34m.\u001b[0m\u001b[0mT\u001b[0m\u001b[0;34m,\u001b[0m \u001b[0;34m(\u001b[0m\u001b[0myy\u001b[0m \u001b[0;34m-\u001b[0m \u001b[0mnp\u001b[0m\u001b[0;34m.\u001b[0m\u001b[0mmatmul\u001b[0m\u001b[0;34m(\u001b[0m\u001b[0mAA\u001b[0m\u001b[0;34m,\u001b[0m \u001b[0mnp\u001b[0m\u001b[0;34m.\u001b[0m\u001b[0marray\u001b[0m\u001b[0;34m(\u001b[0m\u001b[0mvectorize\u001b[0m\u001b[0;34m(\u001b[0m\u001b[0mvXX\u001b[0m\u001b[0;34m)\u001b[0m\u001b[0;34m)\u001b[0m\u001b[0;34m)\u001b[0m\u001b[0;34m)\u001b[0m\u001b[0;34m)\u001b[0m\u001b[0;34m\u001b[0m\u001b[0;34m\u001b[0m\u001b[0m\n\u001b[1;32m     11\u001b[0m             \u001b[0mWW\u001b[0m \u001b[0;34m=\u001b[0m \u001b[0mtorch\u001b[0m\u001b[0;34m.\u001b[0m\u001b[0mreshape\u001b[0m\u001b[0;34m(\u001b[0m\u001b[0mtorch\u001b[0m\u001b[0;34m.\u001b[0m\u001b[0mtensor\u001b[0m\u001b[0;34m(\u001b[0m\u001b[0mWW\u001b[0m\u001b[0;34m)\u001b[0m\u001b[0;34m,\u001b[0m \u001b[0mn\u001b[0m\u001b[0;34m)\u001b[0m\u001b[0;34m\u001b[0m\u001b[0;34m\u001b[0m\u001b[0m\n\u001b[0;32m---> 12\u001b[0;31m             \u001b[0mvXX\u001b[0m \u001b[0;34m=\u001b[0m \u001b[0mlow_rank_approx\u001b[0m\u001b[0;34m(\u001b[0m\u001b[0mWW\u001b[0m\u001b[0;34m,\u001b[0m\u001b[0mr\u001b[0m\u001b[0;34m)\u001b[0m\u001b[0;34m\u001b[0m\u001b[0;34m\u001b[0m\u001b[0m\n\u001b[0m\u001b[1;32m     13\u001b[0m             \u001b[0;31m#print(np.linalg.norm(vectorize(vXX)- vectorize_1(X)),j)\u001b[0m\u001b[0;34m\u001b[0m\u001b[0;34m\u001b[0m\u001b[0m\n\u001b[1;32m     14\u001b[0m             \u001b[0mj\u001b[0m \u001b[0;34m=\u001b[0m \u001b[0mj\u001b[0m\u001b[0;34m+\u001b[0m\u001b[0;36m1\u001b[0m\u001b[0;34m\u001b[0m\u001b[0;34m\u001b[0m\u001b[0m\n",
      "\u001b[0;32m/var/folders/1m/d1lrmr2n7gvdmlys8cnm3nt40000gn/T/ipykernel_19645/1467510605.py\u001b[0m in \u001b[0;36mlow_rank_approx\u001b[0;34m(tensor, r)\u001b[0m\n\u001b[1;32m      3\u001b[0m \u001b[0;32mdef\u001b[0m \u001b[0mlow_rank_approx\u001b[0m\u001b[0;34m(\u001b[0m\u001b[0mtensor\u001b[0m\u001b[0;34m,\u001b[0m\u001b[0mr\u001b[0m\u001b[0;34m)\u001b[0m\u001b[0;34m:\u001b[0m\u001b[0;34m\u001b[0m\u001b[0;34m\u001b[0m\u001b[0m\n\u001b[1;32m      4\u001b[0m     \u001b[0;31m#torch.manual_seed(0)\u001b[0m\u001b[0;34m\u001b[0m\u001b[0;34m\u001b[0m\u001b[0m\n\u001b[0;32m----> 5\u001b[0;31m     \u001b[0mfactors\u001b[0m \u001b[0;34m=\u001b[0m \u001b[0mparafac\u001b[0m\u001b[0;34m(\u001b[0m\u001b[0mtl\u001b[0m\u001b[0;34m.\u001b[0m\u001b[0mtensor\u001b[0m\u001b[0;34m(\u001b[0m\u001b[0mtensor\u001b[0m\u001b[0;34m)\u001b[0m\u001b[0;34m,\u001b[0m \u001b[0mrank\u001b[0m\u001b[0;34m=\u001b[0m\u001b[0mr\u001b[0m\u001b[0;34m)\u001b[0m\u001b[0;34m\u001b[0m\u001b[0;34m\u001b[0m\u001b[0m\n\u001b[0m\u001b[1;32m      6\u001b[0m     \u001b[0manswer\u001b[0m \u001b[0;34m=\u001b[0m \u001b[0mtl\u001b[0m\u001b[0;34m.\u001b[0m\u001b[0mcp_to_tensor\u001b[0m\u001b[0;34m(\u001b[0m\u001b[0mfactors\u001b[0m\u001b[0;34m)\u001b[0m\u001b[0;34m\u001b[0m\u001b[0;34m\u001b[0m\u001b[0m\n\u001b[1;32m      7\u001b[0m     \u001b[0;32mreturn\u001b[0m \u001b[0manswer\u001b[0m\u001b[0;34m\u001b[0m\u001b[0;34m\u001b[0m\u001b[0m\n",
      "\u001b[0;32m~/opt/anaconda3/lib/python3.9/site-packages/tensorly/decomposition/_cp.py\u001b[0m in \u001b[0;36mparafac\u001b[0;34m(tensor, rank, n_iter_max, init, svd, normalize_factors, orthogonalise, tol, random_state, verbose, return_errors, sparsity, l2_reg, mask, cvg_criterion, fixed_modes, svd_mask_repeats, linesearch, callback)\u001b[0m\n\u001b[1;32m    409\u001b[0m                 \u001b[0mprint\u001b[0m\u001b[0;34m(\u001b[0m\u001b[0;34m\"Mode\"\u001b[0m\u001b[0;34m,\u001b[0m \u001b[0mmode\u001b[0m\u001b[0;34m,\u001b[0m \u001b[0;34m\"of\"\u001b[0m\u001b[0;34m,\u001b[0m \u001b[0mtl\u001b[0m\u001b[0;34m.\u001b[0m\u001b[0mndim\u001b[0m\u001b[0;34m(\u001b[0m\u001b[0mtensor\u001b[0m\u001b[0;34m)\u001b[0m\u001b[0;34m)\u001b[0m\u001b[0;34m\u001b[0m\u001b[0;34m\u001b[0m\u001b[0m\n\u001b[1;32m    410\u001b[0m \u001b[0;34m\u001b[0m\u001b[0m\n\u001b[0;32m--> 411\u001b[0;31m             \u001b[0mpseudo_inverse\u001b[0m \u001b[0;34m=\u001b[0m \u001b[0mtl\u001b[0m\u001b[0;34m.\u001b[0m\u001b[0mtensor\u001b[0m\u001b[0;34m(\u001b[0m\u001b[0mnp\u001b[0m\u001b[0;34m.\u001b[0m\u001b[0mones\u001b[0m\u001b[0;34m(\u001b[0m\u001b[0;34m(\u001b[0m\u001b[0mrank\u001b[0m\u001b[0;34m,\u001b[0m \u001b[0mrank\u001b[0m\u001b[0;34m)\u001b[0m\u001b[0;34m)\u001b[0m\u001b[0;34m,\u001b[0m \u001b[0;34m**\u001b[0m\u001b[0mtl\u001b[0m\u001b[0;34m.\u001b[0m\u001b[0mcontext\u001b[0m\u001b[0;34m(\u001b[0m\u001b[0mtensor\u001b[0m\u001b[0;34m)\u001b[0m\u001b[0;34m)\u001b[0m\u001b[0;34m\u001b[0m\u001b[0;34m\u001b[0m\u001b[0m\n\u001b[0m\u001b[1;32m    412\u001b[0m             \u001b[0;32mfor\u001b[0m \u001b[0mi\u001b[0m\u001b[0;34m,\u001b[0m \u001b[0mfactor\u001b[0m \u001b[0;32min\u001b[0m \u001b[0menumerate\u001b[0m\u001b[0;34m(\u001b[0m\u001b[0mfactors\u001b[0m\u001b[0;34m)\u001b[0m\u001b[0;34m:\u001b[0m\u001b[0;34m\u001b[0m\u001b[0;34m\u001b[0m\u001b[0m\n\u001b[1;32m    413\u001b[0m                 \u001b[0;32mif\u001b[0m \u001b[0mi\u001b[0m \u001b[0;34m!=\u001b[0m \u001b[0mmode\u001b[0m\u001b[0;34m:\u001b[0m\u001b[0;34m\u001b[0m\u001b[0;34m\u001b[0m\u001b[0m\n",
      "\u001b[0;31mKeyboardInterrupt\u001b[0m: "
     ]
    }
   ],
   "source": [
    "n = [10,10,10]\n",
    "n_prod = 1\n",
    "\n",
    "for i in range(len(n)):\n",
    "    n_prod = n_prod*n[i]\n",
    "    \n",
    "dim = []\n",
    "percent = [0.8,0.6,0.4, 0.3]\n",
    "\n",
    "for i in range(len(percent)):\n",
    "    dim = dim + [math.ceil(n_prod*percent[i])]\n",
    "    \n",
    "conv_per = []\n",
    "avg_its = []\n",
    "\n",
    "for i in range(len(dim)):\n",
    "    cp, rt, ai, norm, its = CP_TIHT(n,3,dim[i],50,mu=1,num_its=1000,accuracy=.001)\n",
    "    print(\"Dimension :\", dim[i], \" Convergence percent :\", cp, \" Avg_its :\", ai)\n",
    "    conv_per = conv_per + [cp]\n",
    "    avg_its = avg_its + [ai]"
   ]
  },
  {
   "cell_type": "code",
   "execution_count": 154,
   "id": "277f8778",
   "metadata": {},
   "outputs": [
    {
     "name": "stdout",
     "output_type": "stream",
     "text": [
      "Dimension : 6400  Convergence percent : 100.0  Avg_its : 10.9\n",
      "Dimension : 4800  Convergence percent : 100.0  Avg_its : 12.26\n",
      "Dimension : 3200  Convergence percent : 100.0  Avg_its : 15.62\n",
      "Dimension : 2400  Convergence percent : 100.0  Avg_its : 19.7\n"
     ]
    }
   ],
   "source": [
    "n = [20,20,20]\n",
    "n_prod = 1\n",
    "\n",
    "for i in range(len(n)):\n",
    "    n_prod = n_prod*n[i]\n",
    "    \n",
    "dim = []\n",
    "\n",
    "for i in range(len(percent)):\n",
    "    dim = dim + [math.ceil(n_prod*percent[i])]\n",
    "    \n",
    "conv_per = []\n",
    "avg_its = []\n",
    "\n",
    "for i in range(len(dim)):\n",
    "    cp, rt, ai, norm, its = CP_TIHT(n,3,dim[i],50,mu=1,num_its=1000,accuracy=.001)\n",
    "    print(\"Dimension :\", dim[i], \" Convergence percent :\", cp, \" Avg_its :\", ai)\n",
    "    conv_per = conv_per + [cp]\n",
    "    avg_its = avg_its + [ai]"
   ]
  },
  {
   "cell_type": "code",
   "execution_count": 155,
   "id": "f7e006ce",
   "metadata": {},
   "outputs": [
    {
     "name": "stdout",
     "output_type": "stream",
     "text": [
      "Dimension : 21600  Convergence percent : 100.0  Avg_its : 9.0\n",
      "Dimension : 16200  Convergence percent : 100.0  Avg_its : 9.4\n",
      "Dimension : 10800  Convergence percent : 100.0  Avg_its : 11.0\n",
      "Dimension : 8100  Convergence percent : 100.0  Avg_its : 12.0\n"
     ]
    }
   ],
   "source": [
    "n = [30,30,30]\n",
    "n_prod = 1\n",
    "\n",
    "for i in range(len(n)):\n",
    "    n_prod = n_prod*n[i]\n",
    "    \n",
    "dim = []\n",
    "\n",
    "for i in range(len(percent)):\n",
    "    dim = dim + [math.ceil(n_prod*percent[i])]\n",
    "    \n",
    "conv_per = []\n",
    "avg_its = []\n",
    "\n",
    "for i in range(len(dim)):\n",
    "    cp, rt, ai, norm, its = CP_TIHT(n,3,dim[i],5,mu=1,num_its=1000,accuracy=.001)\n",
    "    print(\"Dimension :\", dim[i], \" Convergence percent :\", cp, \" Avg_its :\", ai)\n",
    "    conv_per = conv_per + [cp]\n",
    "    avg_its = avg_its + [ai]"
   ]
  },
  {
   "cell_type": "code",
   "execution_count": null,
   "id": "993b0188",
   "metadata": {},
   "outputs": [],
   "source": []
  },
  {
   "cell_type": "code",
   "execution_count": null,
   "id": "21bc5d37",
   "metadata": {},
   "outputs": [],
   "source": []
  }
 ],
 "metadata": {
  "kernelspec": {
   "display_name": "Python 3 (ipykernel)",
   "language": "python",
   "name": "python3"
  },
  "language_info": {
   "codemirror_mode": {
    "name": "ipython",
    "version": 3
   },
   "file_extension": ".py",
   "mimetype": "text/x-python",
   "name": "python",
   "nbconvert_exporter": "python",
   "pygments_lexer": "ipython3",
   "version": "3.9.7"
  }
 },
 "nbformat": 4,
 "nbformat_minor": 5
}
